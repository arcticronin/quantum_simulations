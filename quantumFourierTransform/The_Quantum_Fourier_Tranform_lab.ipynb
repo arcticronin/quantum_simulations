{
  "nbformat": 4,
  "nbformat_minor": 0,
  "metadata": {
    "colab": {
      "provenance": []
    },
    "kernelspec": {
      "name": "python3",
      "display_name": "Python 3"
    },
    "language_info": {
      "name": "python"
    }
  },
  "cells": [
    {
      "cell_type": "markdown",
      "source": [
        "# Introduction\n",
        "\n",
        "The Quantum Fourier Transform (QFT) is a fundamental quantum operation that plays a key role in many quantum algorithms. The QFT is the quantum analogue of the classical Discrete Fourier Transform (DFT), which is used in many classical signal processing applications such as audio and image compression.\n",
        "\n",
        "In the context of quantum computing, the QFT is used in a variety of algorithms, such as Shor's algorithm for factoring large numbers and the Hidden Subgroup Problem algorithm. It is also used in quantum simulations, quantum error correction, and quantum machine learning.\n",
        "\n",
        "The QFT can be implemented using a combination of Hadamard gates and controlled-phase gates. However, the circuit for the QFT can become quite complex as the number of qubits increases, making it challenging to implement in practice.\n",
        "\n",
        "In this tutorial, we will use Pennylane to implement the QFT on quantum circuits and compare it to classical DFT.\n",
        "\n",
        "**References:**\n",
        "\n",
        "*   Nielsen, M. A., & Chuang, I. L. (2010). Quantum computation and quantum information: 10th anniversary edition. Cambridge university press.\n",
        "*   Cleve, R., Ekert, A., Macchiavello, C., & Mosca, M. (1998). Quantum algorithms revisited. Proceedings of the Royal Society of London. Series A: Mathematical, Physical and Engineering Sciences, 454(1969), 339-354.\n",
        "\n"
      ],
      "metadata": {
        "id": "atZYRyMNTZFy"
      }
    },
    {
      "cell_type": "markdown",
      "source": [
        "First let us install pennylane..."
      ],
      "metadata": {
        "id": "n5c1yOt5x87b"
      }
    },
    {
      "cell_type": "code",
      "execution_count": null,
      "metadata": {
        "id": "flRxyb2mxmnZ"
      },
      "outputs": [],
      "source": [
        "!pip install pennylane"
      ]
    },
    {
      "cell_type": "markdown",
      "source": [
        "\n",
        "...and install relevant libraries\n",
        "\n"
      ],
      "metadata": {
        "id": "XDNTiJhQx71v"
      }
    },
    {
      "cell_type": "code",
      "source": [
        "import pennylane as qml\n",
        "from pennylane import numpy as np\n",
        "from math import pi\n",
        "import matplotlib.pyplot as plt"
      ],
      "metadata": {
        "id": "UjDXhTAoxzO_"
      },
      "execution_count": null,
      "outputs": []
    },
    {
      "cell_type": "markdown",
      "source": [
        "**Exercise 1:** define the classical Discrete Fourier Transform for vectors with length NN=$2^n$"
      ],
      "metadata": {
        "id": "CuEXb-vQkzPM"
      }
    },
    {
      "cell_type": "code",
      "source": [],
      "metadata": {
        "id": "Jf-Zcco0kz37"
      },
      "execution_count": null,
      "outputs": []
    },
    {
      "cell_type": "markdown",
      "source": [
        "**Exercise 2:** define the circuit for the quantum Fourier transform for an arbitrary number n of qubits and print it."
      ],
      "metadata": {
        "id": "w13ohLr895FM"
      }
    },
    {
      "cell_type": "code",
      "source": [],
      "metadata": {
        "id": "3NYpKAr_inXd"
      },
      "execution_count": null,
      "outputs": []
    },
    {
      "cell_type": "markdown",
      "source": [
        "**Excercise 3:** Perform the QFT on various input vectors and compare the results with the DFT. Do this for 4 and 10 qubits. Use an input vector with a single non-zero element, one which is constant and one encoding a period of the function $f(t)=5+2\\cos(2\\pi t - \\pi/2)+3\\cos(4\\pi t)$. Plot the results for the amplitudes of the elements of wafunctions after the QFT. Also compare the results with Pennylane's native QFT class. Plot the results using matplotlib."
      ],
      "metadata": {
        "id": "Ywqj0311k4Ba"
      }
    },
    {
      "cell_type": "code",
      "source": [],
      "metadata": {
        "id": "ft15j-xQt74F"
      },
      "execution_count": null,
      "outputs": []
    },
    {
      "cell_type": "code",
      "source": [],
      "metadata": {
        "id": "IpZdGo_cs57a"
      },
      "execution_count": null,
      "outputs": []
    },
    {
      "cell_type": "code",
      "source": [],
      "metadata": {
        "id": "7uDaUORPV4Dk"
      },
      "execution_count": null,
      "outputs": []
    },
    {
      "cell_type": "markdown",
      "source": [
        "**Exercise 4:** Try to guess, by hand, the sequence of elementary gates needed to implement the controlled rotation. Consider that the CNOT exchanges the two last elements of the ket vector."
      ],
      "metadata": {
        "id": "_qFwqSHId-V5"
      }
    }
  ]
}