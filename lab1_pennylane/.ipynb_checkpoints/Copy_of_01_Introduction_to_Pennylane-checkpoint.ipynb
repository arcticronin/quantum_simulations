{
 "cells": [
  {
   "cell_type": "markdown",
   "metadata": {
    "id": "tq23VYELiqHh"
   },
   "source": [
    "# **INTRODUCTION TO PENNYLANE**\n",
    "\n",
    "Codebook (tutorials, interactive elementary textbook, more advanced applications): [link](https://codebook.xanadu.ai/)\n",
    "\n",
    "PennyLane is an **open-source cross-platform Python library** that supports a wide array of tasks in quantum computing, quantum machine learning, and quantum chemistry.\n",
    "\n",
    "Its capabilities for the differentiable programming of quantum computers have been designed to seamlessly integrate with classical machine learning libraries, quantum simulators and hardware, giving users the power to train quantum circuits.\n",
    "\n",
    "<p align=\"center\">\n",
    "  <img src=\"penny.png\" style=\"height: 500px;width: auto\" />\n",
    "</p>\n",
    "\n",
    "Unlike other quantum programming libraries, Pennylane is based on the following features\n",
    "\n",
    "*   **Follow the gradient.** Built-in automatic differentiation of quantum circuits.\n",
    "\n",
    "*   **Best of both worlds.** Support for hybrid quantum and classical models;\n",
    "connect quantum hardware with PyTorch, TensorFlow, and NumPy.\n",
    "\n",
    "*   **Batteries included.** Provides optimization and machine learning tools.\n",
    "\n",
    "*   **Device-independent.** The same quantum circuit model can be run on different backends. Install plugins to access even more devices, including Strawberry Fields, Amazon Braket, IBM Q, Google Cirq, Rigetti Forest, Microsoft QDK, and ProjectQ.\n"
   ]
  },
  {
   "cell_type": "markdown",
   "metadata": {
    "id": "PpxB-llBJTPE"
   },
   "source": [
    "> Pennylane provides tools to integrate with Qiskit 1.0 (quantum SDK by IBMQ)\n",
    "\n",
    "A growing number of authors started providing a Demo of their recent paper on Pennylane.\n",
    "\n",
    "This is a new practical way of sharing scientific results.\n",
    "Check some examples here: [link](https://pennylane.ai/search/?contentType=DEMO&sort=publication_date)"
   ]
  },
  {
   "cell_type": "code",
   "execution_count": null,
   "metadata": {
    "id": "O6wQJzkfTN5q"
   },
   "outputs": [],
   "source": [
    "#!pip install pennylane"
   ]
  },
  {
   "cell_type": "markdown",
   "metadata": {
    "id": "-ob4TZ3CJTPG"
   },
   "source": [
    "<div class=\"alert alert-block alert-warning\">\n",
    "&#9888;&#65039; When constructing a hybrid quantum/classical computational model with PennyLane, it is important to always import NumPy from PennyLane, not the standard NumPy!\n",
    "</div>"
   ]
  },
  {
   "cell_type": "code",
   "execution_count": 1,
   "metadata": {
    "id": "yuOXZYzyTlax"
   },
   "outputs": [],
   "source": [
    "import pennylane as qml\n",
    "from pennylane import numpy as np"
   ]
  },
  {
   "cell_type": "markdown",
   "metadata": {
    "id": "lBOWvDZ17-fm"
   },
   "source": [
    "## Elements of quantum computation\n",
    "\n",
    "The power of quantum computers comes from the different way in which they represent and manipulate information.\n",
    "Two main quantum effects that can be useful for computation are\n",
    "- quantum superposition\n",
    "- entanglement\n",
    "\n",
    "Quantum computers use special bits, called quantum bits, or **qubits**. As with bits, qubits also correspond to something physical, but our focus here will be on the theory from a software and algorithmic perspective.\n",
    "\n",
    "Before we can delve into quantum computation, we need a **framework** for describing qubits and the things we can do to them. The key ingredients we need are:\n",
    "\n",
    "*   a mathematical representation of a qubit's state\n",
    "*   a way of manipulating the state to perform computation (quantum gates)\n",
    "*   a means of measuring a qubit to determine what state it is in\n",
    "\n",
    "All these three elements -- quantum states, gates and measurements -- are easily implemented in Pennylane.\n",
    "\n",
    "---\n"
   ]
  },
  {
   "cell_type": "markdown",
   "metadata": {
    "id": "ER2_qfR0JTPG"
   },
   "source": [
    "### Qubit representation\n",
    "In linear algebra terms, the qubit in the state $\\vert0\\rangle$ and $\\vert1\\rangle$ are represented by the following two-dimensional vectors.\n",
    "\n",
    "$$\n",
    "\\vert0\\rangle :=\n",
    " \\begin{pmatrix}\n",
    "  1 \\\\\n",
    "  0\n",
    " \\end{pmatrix}\n",
    "$$\n",
    "$$\\vert1\\rangle :=\n",
    " \\begin{pmatrix}\n",
    "  0 \\\\\n",
    "  1\n",
    " \\end{pmatrix}\n",
    "$$\n",
    "\n",
    "A single-qubit quantum state $\\vert\\psi\\rangle$ can then be written as follows\n",
    "\n",
    "$$\n",
    "\\vert\\psi\\rangle = \\alpha\\vert0\\rangle + \\beta\\vert1\\rangle :=\n",
    " \\begin{pmatrix}\n",
    "  \\alpha \\\\\n",
    "  \\beta\n",
    " \\end{pmatrix}\\quad\\text{where}\\quad |\\alpha|^2+|\\beta|^2=1\n",
    "$$\n",
    "\n",
    "We will talk about many-qubit states in the next notebook!\n",
    "\n",
    "---\n"
   ]
  },
  {
   "cell_type": "markdown",
   "metadata": {
    "id": "5ZiGFeZlJTPH"
   },
   "source": [
    "### Quantum gates\n",
    "\n",
    "Performing quantum operations involves multiplication by matrices that send valid, normalized quantum states to other normalized quantum states.\n",
    "\n",
    "Recall that qubit states are represented by 2-dimensional vectors that live in a mathematical space called the **Hilbert space**. We know already that single qubit operations must take valid qubit states to other valid qubit states, and this is done using matrix-vector multiplication by a $2\\times 2$ matrix. Let us see an example (Hadamard gate):\n",
    "\n",
    "$$\n",
    "U = \\frac{1}{\\sqrt{2}}\n",
    " \\begin{pmatrix}\n",
    "  1 & 1 \\\\\n",
    "  1 & -1\n",
    " \\end{pmatrix}\n",
    "$$\n",
    "\n",
    "Given an initial qubit state $\\vert\\psi\\rangle$, a single-qubit operation $U$ sends\n",
    "\n",
    "$$\n",
    "\\vert\\psi\\rangle → \\vert\\psi'\\rangle = U\\vert\\psi\\rangle\n",
    "$$\n",
    "\n",
    "In vector representation\n",
    "\n",
    "$$\n",
    "\\vert\\psi'\\rangle :=\n",
    " \\begin{pmatrix}\n",
    "  \\alpha' \\\\\n",
    "  \\beta'\n",
    " \\end{pmatrix} = \\frac{1}{\\sqrt{2}}\n",
    " \\begin{pmatrix}\n",
    "  1 & 1 \\\\\n",
    "  1 & -1\n",
    " \\end{pmatrix}\\begin{pmatrix}\n",
    "  \\alpha \\\\\n",
    "  \\beta\n",
    " \\end{pmatrix}= \\frac{1}{\\sqrt{2}}\\begin{pmatrix}\n",
    "  \\alpha + \\beta \\\\\n",
    "  \\alpha - \\beta\n",
    " \\end{pmatrix}\n",
    "$$\n",
    "\n",
    "However, recall that qubit state vectors have some special properties - in particular, they are normalized, i.e., have length 1. Thus, any matrix that operates on qubits is going to require a structure that preserves this property. Matrices of this type are called **unitary** matrices. More formally, an $n\\times n$  complex-valued matrix $U$ is unitary if\n",
    "\n",
    "$$\n",
    "UU^{†} = U^{†}U = I_n\n",
    "$$\n",
    "\n",
    "$$\n",
    "U = \\begin{pmatrix}\n",
    "  a & b \\\\\n",
    "  c & d\n",
    "\\end{pmatrix}, \\hspace{5mm} U^{†} = \\begin{pmatrix}\n",
    "  a^* & c^* \\\\\n",
    "  b^* & d^*\n",
    "\\end{pmatrix}\n",
    "$$\n",
    "\n",
    "---\n"
   ]
  },
  {
   "cell_type": "markdown",
   "metadata": {
    "id": "qEZPPvYaJTPH"
   },
   "source": [
    "### Measurements\n",
    "\n",
    "Let us now move to measurements. If we measure a quantum state, different outcome probabilities are related to the amplitudes of a qubit's state vector.\n",
    "In practice, a measurement in quantum computing is always performed with respect to a *basis*.\n",
    "\n",
    "Such **projective measurements** determine the probability of each basis state outcome by computing the inner product between the basis state $\\vert\\varphi\\rangle$ and the current system state $\\vert\\psi\\rangle$:\n",
    "\n",
    "$$\n",
    "Pr_{φ}(\\psi) = |\\langle\\varphi|\\psi\\rangle|^2\n",
    "$$\n",
    "\n",
    "In quantum computing one performs measurements on a quantum state, which is first prepared by applying gates to a blank register (all qubits are initialized in state $|0\\rangle$).\n",
    "After the state is prepared, measurements are often performed on the *computational basis*.\n",
    "\n",
    "For a single qubit, the computational basis is simply $\\{|0\\rangle,|1\\rangle\\}$.\n",
    "The computational basis states are, by definition, the eigenstates of the Pauli operator $Z$\n",
    "$$\n",
    "Z := \\begin{pmatrix}\n",
    "  1 & 0 \\\\\n",
    "  0 & -1\n",
    "\\end{pmatrix}\n",
    "$$\n",
    "For more qubits (e.g. for 3 qubits), the computational basis states are the simultaneous eigenstates of $Z_1$, $Z_2$, $Z_3$ etc.\n",
    "An example is: $$|0\\rangle \\otimes |1\\rangle \\otimes |0\\rangle \\equiv |010\\rangle$$\n",
    "\n",
    "\n",
    "**Quantum computers are often used as sampler with discrete probability outcomes, to estimate expectation value of an observable**\n",
    "\n",
    "An observable can be described in the context of quantum computing simply as a Hermitian matrix $O$ such that:\n",
    "\n",
    "$$\n",
    "O = O^{†}\n",
    "$$\n",
    "\n",
    "\n",
    "The expactazion value of $Z$ respect to the state $\\vert\\psi\\rangle$ is\n",
    "\n",
    "$$\n",
    "\\langle\\psi\\vert Z\\vert\\psi\\rangle := \\begin{pmatrix}\n",
    "  \\alpha^* & \\beta^*\n",
    "\\end{pmatrix}\\begin{pmatrix}\n",
    "  1 & 0 \\\\\n",
    "  0 & -1\n",
    "\\end{pmatrix}\\begin{pmatrix}\n",
    "  \\alpha \\\\\n",
    "  \\beta\n",
    "\\end{pmatrix}=|\\alpha|^2 - |\\beta|^2\n",
    "$$\n",
    "\n",
    "In a real quantum experiment, one should prepare the state $|\\psi\\rangle$ a number $M$ times. After the state is prepared, one performs a measurement, obtaining $M_0$ times the state $|0\\rangle$ (eigenvalue 1) and $M_1 = M - M_0$ times the state $|1\\rangle$ (eigenvalue -1).\n",
    "The expectation value above is estimated experimentally as\n",
    "\n",
    "$$\n",
    "\\langle\\psi\\vert Z\\vert\\psi\\rangle \\approx \\frac{M_0}{M} (1) + \\frac{M_1}{M} (-1) = \\frac{M_0}{M}-\\frac{M_1}{M}\n",
    "$$"
   ]
  },
  {
   "cell_type": "markdown",
   "metadata": {
    "id": "4ZdqyQ67FS0k"
   },
   "source": [
    "## Elements of quantum computation with Pennylane\n",
    "\n",
    "The first step is to define a **device**, that is an environment in which to perform quantum operations. They can be simulators on classical hardware or real quantum hardware."
   ]
  },
  {
   "cell_type": "markdown",
   "metadata": {
    "id": "HVi9Y7TMJTPI"
   },
   "source": [
    "<div class=\"alert alert-block alert-warning\">\n",
    "&#9888;&#65039; The <code>default.qubit</code> device is PennyLane’s standard qubit-based device:\n",
    "</div>\n",
    "\n",
    "[Documentation](https://docs.pennylane.ai/en/stable/code/api/pennylane.devices.default_qubit.DefaultQubit.html)\n"
   ]
  },
  {
   "cell_type": "code",
   "execution_count": 6,
   "metadata": {
    "id": "5kRaz8Ki6m4_"
   },
   "outputs": [],
   "source": [
    "dev = qml.device(\"default.qubit\", wires=1)\n",
    "# wires = number of qubits"
   ]
  },
  {
   "cell_type": "markdown",
   "metadata": {
    "id": "HQsER2r8upHr"
   },
   "source": [
    "The fundamental element introduced in pennylane is the quantum node (`qnode`) which allows you to interface the quantum circuit with a device (either a real quantum device or a classical simulator, as in this case).\n",
    "\n",
    "It also allows integration with libraries for tensor calculation used in machine learning.\n",
    "\n",
    "Recall that\n",
    "> A quantum circuit is composed by the series of operations and measurements to be applied to a set of qubits. It represents the fundamental building block of quantum algorithms.\n",
    "\n",
    "A `qnode`  is applied as a decorator to a function that defines the quantum circuit: the function becomes itself an object of the class `QNode`.\n",
    "\n",
    "So let's see the first example of a quantum circuit on pennylane"
   ]
  },
  {
   "cell_type": "code",
   "execution_count": 41,
   "metadata": {
    "id": "5ELxff9_60OF"
   },
   "outputs": [],
   "source": [
    "'''\n",
    "Interfaces: different automatic differentiation (AD) frameworks\n",
    "Examples: autograd (pennylane), tensorflow, pytorch, jax\n",
    "'''\n",
    "\n",
    "@qml.qnode(dev, interface=\"autograd\")\n",
    "def circuit_1():\n",
    "    qml.Hadamard(wires=0) # on the first qubit (only one in the circuit)\n",
    "    return qml.expval(qml.PauliZ(0)) # computational basis measurements to compute expectation value of Z"
   ]
  },
  {
   "cell_type": "code",
   "execution_count": 42,
   "metadata": {
    "colab": {
     "base_uri": "https://localhost:8080/",
     "height": 175
    },
    "id": "uSzeCKxB6-mM",
    "outputId": "3480cce8-d9c0-434a-d2ee-a96130a45ef3"
   },
   "outputs": [
    {
     "data": {
      "image/png": "[encoded data removed]",
      "text/plain": [
       "<Figure size 400x200 with 1 Axes>"
      ]
     },
     "metadata": {},
     "output_type": "display_data"
    }
   ],
   "source": [
    "# draw it\n",
    "\n",
    "fig, ax = qml.draw_mpl(circuit_1)() # the second empty parethesis is for circuit parameters: here there are none"
   ]
  },
  {
   "cell_type": "code",
   "execution_count": 43,
   "metadata": {
    "colab": {
     "base_uri": "https://localhost:8080/"
    },
    "id": "WxJm3Qk4yT8h",
    "outputId": "676bab70-cae4-4eef-aa07-bfb078d2852b"
   },
   "outputs": [
    {
     "name": "stdout",
     "output_type": "stream",
     "text": [
      "0.0\n"
     ]
    }
   ],
   "source": [
    "# result of the circuit\n",
    "\n",
    "print(circuit_1())"
   ]
  },
  {
   "cell_type": "markdown",
   "metadata": {
    "id": "M7uWQ7b30n4I"
   },
   "source": [
    "The steps of the circuit are:\n",
    "\n",
    "1.   Apply Hadamard gate\n",
    "\n",
    "$$\n",
    "\\vert\\psi\\rangle = H\\vert0\\rangle = \\frac{1}{\\sqrt{2}}\n",
    " \\begin{pmatrix}\n",
    "  1 & 1 \\\\\n",
    "  1 & -1\n",
    " \\end{pmatrix}\\begin{pmatrix}\n",
    "  1\\\\\n",
    "  0\n",
    " \\end{pmatrix}= \\frac{1}{\\sqrt{2}}\\begin{pmatrix}\n",
    "  1 \\\\\n",
    "  1\n",
    " \\end{pmatrix} = | +\\rangle\n",
    "$$\n",
    "\n",
    "where we defined the eigenstates of Pauli-X as $$ X |\\pm\\rangle = \\pm |\\pm\\rangle \\qquad \\text{with} \\qquad |\\pm\\rangle \\frac{1}{\\sqrt{2}}\\begin{pmatrix}\n",
    "  1 \\\\\n",
    "  \\pm1\n",
    " \\end{pmatrix} $$.\n",
    "\n",
    "Note that $H\\vert1\\rangle = |-\\rangle$, so the Hadamdard gate connects the two basis of eigenstates of Z and X.\n",
    "\n",
    "2.  Evaluate the expectaion value respect to $Z$\n",
    "\n",
    "$$\n",
    "\\langle\\psi\\vert Z\\vert\\psi\\rangle = \\frac{1}{\\sqrt{2}}\\begin{pmatrix}\n",
    "  1 & 1\n",
    " \\end{pmatrix}\\begin{pmatrix}\n",
    "  1 & 0 \\\\\n",
    "  0 & -1\n",
    "\\end{pmatrix}\\frac{1}{\\sqrt{2}}\\begin{pmatrix}\n",
    "  1 \\\\\n",
    "  1\n",
    " \\end{pmatrix}=\\frac{1}{2} - \\frac{1}{2} =0\n",
    " $$"
   ]
  },
  {
   "cell_type": "markdown",
   "metadata": {
    "id": "z1ANdQogJTPL"
   },
   "source": [
    "<div class=\"alert alert-block alert-danger\">\n",
    "&#9888;&#65039; <b>!ATTENTION!</b>  We are using a simulator that allows us to access intermediate states and compute expectation values analytically. On a quantum computer this is not possible. Information on the quantum state can be extracted only by collecting **measurement results on the final state**. In this way, expectation values can be estimated as a sample mean.\n",
    "</div>"
   ]
  },
  {
   "cell_type": "markdown",
   "metadata": {
    "id": "UQOzcNUoJTPL"
   },
   "source": [
    "The `Snapshot` operation saves the internal simulator state at specific execution steps of a quantum function. As such, it is a pseudo operation with no effect on the quantum state."
   ]
  },
  {
   "cell_type": "code",
   "execution_count": 44,
   "metadata": {
    "id": "x7HfPJvnzGYQ"
   },
   "outputs": [],
   "source": [
    "@qml.qnode(dev, interface=\"autograd\")\n",
    "def circuit_2():\n",
    "  qml.Snapshot()\n",
    "  qml.Hadamard(wires=0)\n",
    "  qml.Snapshot()\n",
    "  return qml.expval(qml.PauliZ(0))"
   ]
  },
  {
   "cell_type": "code",
   "execution_count": 45,
   "metadata": {
    "colab": {
     "base_uri": "https://localhost:8080/"
    },
    "id": "awDsbseV8fwP",
    "outputId": "c8a5b371-4318-4a17-e924-11542a71a948"
   },
   "outputs": [
    {
     "data": {
      "text/plain": [
       "{0: tensor([1.+0.j, 0.+0.j], requires_grad=True),\n",
       " 1: tensor([0.70710678+0.j, 0.70710678+0.j], requires_grad=True),\n",
       " 'execution_results': tensor(0., requires_grad=True)}"
      ]
     },
     "execution_count": 45,
     "metadata": {},
     "output_type": "execute_result"
    }
   ],
   "source": [
    "qml.snapshots(circuit_2)()"
   ]
  },
  {
   "cell_type": "markdown",
   "metadata": {
    "id": "xnXf8VVdhACG"
   },
   "source": [
    "### Qubit rotations\n",
    "\n",
    "A general transformation on a qubit can be obtained with the right combination of the following matrices that represent rotations on the Bloch sphere.\n",
    "\n",
    "$$ R_\\alpha(\\theta) = e^{-i \\frac{\\theta}{2}\\sigma_\\alpha} = \\mathrm{I}\\cos{\\frac{\\theta}{2}} - i \\sin{\\frac{\\theta}{2}} \\sigma_\\alpha \\qquad \\text{for} \\ \\ \\alpha=x,y,z $$\n",
    "\n",
    "<p align=\"center\">\n",
    "  <img src=\"rotations.png\" style=\"height: 500px;width: auto\" />\n",
    "</p>"
   ]
  },
  {
   "cell_type": "code",
   "execution_count": 46,
   "metadata": {
    "id": "ubj45uXdz-tv"
   },
   "outputs": [],
   "source": [
    "@qml.qnode(dev, interface=\"autograd\")\n",
    "def circuit_3(theta):\n",
    "  qml.Snapshot()\n",
    "  qml.RY(theta, wires=0)\n",
    "  qml.Snapshot()\n",
    "  return qml.expval(qml.PauliZ(0))"
   ]
  },
  {
   "cell_type": "code",
   "execution_count": null,
   "metadata": {
    "colab": {
     "base_uri": "https://localhost:8080/"
    },
    "id": "LEss69synSUc",
    "outputId": "cae60b50-c76b-46f5-86e8-17ab5bb18d2d"
   },
   "outputs": [
    {
     "name": "stdout",
     "output_type": "stream",
     "text": [
      "{0: array([1.+0.j, 0.+0.j]), 1: array([0.70710678+0.j, 0.70710678+0.j]), 'execution_results': tensor(2.22044605e-16, requires_grad=True)}\n",
      "\n",
      "\n",
      "\n",
      "{0: array([1.+0.j, 0.+0.j]), 1: array([6.123234e-17+0.j, 1.000000e+00+0.j]), 'execution_results': tensor(-1., requires_grad=True)}\n"
     ]
    }
   ],
   "source": [
    "theta_1 = np.pi/2\n",
    "theta_2 = np.pi\n",
    "\n",
    "print(qml.snapshots(circuit_3)(theta_1)) # evaluate at theta_1: state |+>\n",
    "print(\"\\n\\n\")\n",
    "print(qml.snapshots(circuit_3)(theta_2)) # evaluate at theta_2: state |1>"
   ]
  },
  {
   "cell_type": "code",
   "execution_count": null,
   "metadata": {
    "colab": {
     "base_uri": "https://localhost:8080/"
    },
    "id": "RLGUWLVcp8Ga",
    "outputId": "affe1efe-5425-42ab-c97c-6ae8bf1d6124"
   },
   "outputs": [
    {
     "name": "stdout",
     "output_type": "stream",
     "text": [
      "2.220446049250313e-16\n",
      "\n",
      "\n",
      "-1.0\n"
     ]
    }
   ],
   "source": [
    "print(circuit_3(theta_1))\n",
    "print(\"\\n\")\n",
    "print(circuit_3(theta_2))"
   ]
  },
  {
   "cell_type": "markdown",
   "metadata": {
    "id": "jjdR1lMos5sd"
   },
   "source": [
    "### Measurements on a general observable\n",
    "\n",
    "What should be done to obtain the expectation value of an operator that is not $Z$? For example $X$\n",
    "\n",
    "$$\n",
    "X := \\begin{pmatrix}\n",
    "  0 & 1 \\\\\n",
    "  1 & 0\n",
    "\\end{pmatrix}\n",
    "$$\n",
    "\n",
    "Until now all states (vectors) and quantum gates (matrices) have been defined in the computational basis, the basis of eigenstates of $Z$.\n",
    "To carry out measurements on another observable $O$, we must diagonalize it:\n",
    "\n",
    "$$\n",
    "O = U O_D U^{†}\\,,\n",
    "$$\n",
    "\n",
    "where $U$ is some unitary transformation and $O_D = diag(\\lambda_1, \\lambda_2)$ is a diagonal matrix with the eigenvalues of the observable $O$.\n",
    "\n",
    "At the end of the circuit, one should apply $U^{†}$ and perform measurements on the computational basis as usual.\n",
    "Indeed, suppose we perform a measurement on the state $U^{†} | \\psi \\rangle$, and obtain the computational basis state $|0\\rangle$ or $| 1\\rangle$.\n",
    "This corresponds to a measurement on the state $| \\psi \\rangle$, yielding the first or second eigenvector of $O$.\n",
    "\n",
    "For the simple example of $X$, $U= U^{†}= H$ i.e. the Hadamard gate: $X = HZH$. Notice that all Pauli matrices have spectrum $\\{1,-1\\}$, so the diagonal operator is always $O_D = Z$.\n",
    "\n",
    "> Bonus exercise at home:\n",
    ">\n",
    "> Generalize this argument to the case of an observable $O$ on $n$ qubits ($N=2^n$).\n",
    ">\n",
    ">Use:\n",
    ">\n",
    ">$$\n",
    ">O = U O_D U^{†}\\,,\n",
    ">$$\n",
    ">and the expansion in the computational basis\n",
    ">$$ O_D = \\sum_{j=1}^N \\lambda_j |j\\rangle \\langle j | $$\n",
    ">and substitute into the expectation value $\\langle \\psi | O | \\psi \\rangle$.\n",
    ">\n",
    ">Note that diagonalizing $O$ is, in general, exponentially hard in the number of qubits $n$. It may require an exponential number of gates (impractical).\n",
    "\n"
   ]
  },
  {
   "cell_type": "code",
   "execution_count": null,
   "metadata": {
    "colab": {
     "base_uri": "https://localhost:8080/"
    },
    "id": "9dewGGVQzNDj",
    "outputId": "50787f5f-d704-46d4-e5d3-aab194913ed9"
   },
   "outputs": [
    {
     "name": "stdout",
     "output_type": "stream",
     "text": [
      "0.9999999999999998\n",
      "0.0\n"
     ]
    }
   ],
   "source": [
    "@qml.qnode(dev, interface=\"autograd\")\n",
    "def circuit_4(theta):\n",
    "  qml.RY(theta, wires=0)\n",
    "  qml.Hadamard(wires=0) # apply U^\\dagger and measure on the Z basis\n",
    "  return qml.expval(qml.PauliZ(0))\n",
    "\n",
    "print(circuit_4(theta_1))\n",
    "print(circuit_4(theta_2))"
   ]
  },
  {
   "cell_type": "markdown",
   "metadata": {
    "id": "S7Oa0nT13Uld"
   },
   "source": [
    ">Pennylane automatically allows you to change the basis and then make measurements and calculate expectation values on an arbitrary observable"
   ]
  },
  {
   "cell_type": "code",
   "execution_count": null,
   "metadata": {
    "id": "v8ovlu21JTPM",
    "outputId": "62dee629-d05e-4917-84f7-e7fb59ac6403"
   },
   "outputs": [
    {
     "name": "stdout",
     "output_type": "stream",
     "text": [
      "0.9999999999999998\n",
      "0.0\n"
     ]
    }
   ],
   "source": [
    "@qml.qnode(dev, interface=\"autograd\")\n",
    "def circuit_5(theta):\n",
    "  qml.RY(theta, wires=0)\n",
    "  return qml.expval(qml.PauliX(0)) # directly measure on the X basis\n",
    "\n",
    "print(circuit_5(theta_1))\n",
    "print(circuit_5(theta_2))"
   ]
  },
  {
   "cell_type": "code",
   "execution_count": null,
   "metadata": {
    "colab": {
     "base_uri": "https://localhost:8080/"
    },
    "id": "oB1QkP5o23SV",
    "outputId": "484825f4-ebb2-4d74-b1ed-1ed6a46e05d8"
   },
   "outputs": [
    {
     "name": "stdout",
     "output_type": "stream",
     "text": [
      "0.9999999999999998\n",
      "0.9999999999999998\n"
     ]
    }
   ],
   "source": [
    "ob1 = qml.PauliX(0)\n",
    "ob2 = qml.Hermitian( np.array( [[0, 1], [1, 0]] ) , 0) # define a customized observable. Here it is just Pauli X\n",
    "\n",
    "@qml.qnode(dev, interface=\"autograd\")\n",
    "def circuit_6(theta, ob):\n",
    "  qml.RY(theta, wires=0)\n",
    "  if ob==0:\n",
    "    return qml.expval(ob1)\n",
    "  if ob==1:\n",
    "    return qml.expval(ob2)\n",
    "\n",
    "theta = np.pi/2\n",
    "ob_id = 0\n",
    "print(circuit_6(theta, ob_id))\n",
    "ob_id = 1\n",
    "print(circuit_6(theta, ob_id))"
   ]
  },
  {
   "cell_type": "markdown",
   "metadata": {
    "id": "s_M1fc_6vBki"
   },
   "source": [
    "\n",
    "---\n",
    "## Exercise 1\n",
    "\n",
    "We have seen that by adding a Hadamard gate we obtain the expectation vaue of $X$.\n",
    "\n",
    "How should we select $U$ so that $Y = UZU^{†}$?\n",
    "\n",
    "Recall that:\n",
    "$\\hspace{70mm}$ $ Y := \\begin{pmatrix}\n",
    "  0 & -i \\\\\n",
    "  i & 0\n",
    "\\end{pmatrix}$\n",
    "\n",
    "Check the answer by building two qnodes with `wires=1`: both with a single qubit rotation $R_X(\\theta)$, for any value of $\\theta$. In the first one, directly measure the expectation value of `qml.PauliY(0)`. In the second one, measure it on the computational basis `qml.PauliZ(0)`, by adding the gate $U^{†}$ after the rotation, such that $Y = UZU^{†}$\n",
    "\n",
    "<div class=\"alert-block alert-info\">\n",
    "&#128161; <b>Hint:</b> The unitary is U = S H, and to implement its adjoint you have to use the Hadamard gate and the following gate called adjoint Phase gate:\n",
    "</div>\n",
    "\n",
    "$$\n",
    "S^{†} := \\begin{pmatrix}\n",
    "1 & 0 \\\\\n",
    "0 & -i\n",
    "\\end{pmatrix}\n",
    "$$\n",
    "\n",
    "The pennylane command to implement it is the following\n",
    "\n",
    "```python\n",
    "  U = np.array([[1, 0], [0, -1j]])\n",
    "  qml.QubitUnitary(U, wires=0)\n",
    "```\n",
    "</div>\n",
    "  \n",
    "\n",
    "\n",
    "\n"
   ]
  },
  {
   "cell_type": "code",
   "execution_count": null,
   "metadata": {
    "id": "uWhPDgy64jt2",
    "outputId": "9e63d6d2-e3cf-4c89-8def-7065e7b3d442"
   },
   "outputs": [
    {
     "name": "stdout",
     "output_type": "stream",
     "text": [
      "False\n"
     ]
    }
   ],
   "source": [
    "dev = qml.device(\"default.qubit\", wires=1)\n",
    "\n",
    "@qml.qnode(dev, interface=\"autograd\")\n",
    "def circuit_ex1():\n",
    "\n",
    "  ##############\n",
    "  # Add rotation\n",
    "  ##############\n",
    "\n",
    "  return qml.expval(qml.PauliY(0))\n",
    "\n",
    "@qml.qnode(dev, interface=\"autograd\")\n",
    "def circuit_ex2():\n",
    "\n",
    "  ##############\n",
    "  # Add rotation\n",
    "  ##############\n",
    "\n",
    "  ##############\n",
    "  # Basis trasformation\n",
    "  ##############\n",
    "\n",
    "  return qml.expval(qml.PauliZ(0))\n",
    "\n",
    "print(np.isclose(circuit_ex1(), circuit_ex2()))"
   ]
  },
  {
   "cell_type": "markdown",
   "metadata": {
    "id": "2uSXdo2r0vzd"
   },
   "source": [
    "## Exercise 2\n",
    "\n",
    "Check the following commutation relations\n",
    "\n",
    "$$\n",
    "\\left[ R_x(\\theta_1), R_y(\\theta_2)  \\right]\\neq 0\n",
    "$$\n",
    "\n",
    "<div class=\"alert-block alert-info\">\n",
    "\t&#128161; <b>Hint:</b> You can see this by building two circuits where the order of the two gates is reversed. We then need to choose which expectation value to compute (Z, X or Y) to check for the difference.\n",
    "\n",
    "&#9888;&#65039; Check the intermediate states between the transformations and their position on the Bloch sphere\n",
    "</div>"
   ]
  },
  {
   "cell_type": "code",
   "execution_count": null,
   "metadata": {
    "id": "NebaamOCpqhc"
   },
   "outputs": [],
   "source": [
    "dev = qml.device(\"default.qubit\", wires=1)\n",
    "\n",
    "@qml.qnode(dev, interface=\"autograd\")\n",
    "def circuit_ex3():\n",
    "\n",
    "  ##############\n",
    "  # Add rotation\n",
    "  ##############\n",
    "\n",
    "  ##############\n",
    "  # Return the expval of Z,X or Y\n",
    "  ##############\n",
    "\n",
    "  pass\n",
    "\n",
    "\n",
    "@qml.qnode(dev, interface=\"autograd\")\n",
    "def circuit_ex4():\n",
    "\n",
    "  ##############\n",
    "  # Add rotation\n",
    "  ##############\n",
    "\n",
    "  ##############\n",
    "  # Return the same expval\n",
    "  ##############\n",
    "\n",
    "  pass\n",
    "\n",
    "print(circuit_ex3())\n",
    "print(circuit_ex4())"
   ]
  },
  {
   "cell_type": "markdown",
   "metadata": {
    "id": "lJW_JPlE2JE5"
   },
   "source": [
    "---\n",
    "## Multi-qubit quantum circuits\n",
    "\n",
    "Recall that single-qubit states live in a Hilbert space, which is a 2-dimensional vector space spanned by basis vectors $\\vert0\\rangle$ and $\\vert1\\rangle$ . In order to work with multiple qubits, we must learn how these vector spaces compose. Hilbert spaces are combined using an operation called the **tensor product**. This operation is best understood through example. Suppose we have a pair of two-dimensional vectors (e.g., two single-qubit states). The tensor product can be computed as:\n",
    "\n",
    "$$\n",
    "\\begin{pmatrix}\n",
    "a \\\\ b\n",
    "\\end{pmatrix}\\otimes\n",
    "\\begin{pmatrix}\n",
    "c \\\\ d\n",
    "\\end{pmatrix} =\n",
    "\\begin{pmatrix}\n",
    "a   \\begin{pmatrix}\n",
    "        c \\\\ d\n",
    "    \\end{pmatrix} \\\\\n",
    "b   \\begin{pmatrix}\n",
    "        c \\\\ d\n",
    "    \\end{pmatrix}\n",
    "\\end{pmatrix} =\n",
    "\\begin{pmatrix}\n",
    "ac \\\\ ad \\\\ bc \\\\ bd\n",
    "\\end{pmatrix}\n",
    "$$\n",
    "\n"
   ]
  },
  {
   "cell_type": "markdown",
   "metadata": {
    "id": "VG1rdpRIJTPN"
   },
   "source": [
    "The tensor product also applies to the unitary operations that act on qubits (gates). For example,\n",
    "\n",
    "$$\n",
    "\\begin{pmatrix}\n",
    "a &b \\\\ c & d\n",
    "\\end{pmatrix}\\otimes\n",
    "\\begin{pmatrix}\n",
    "\\alpha & \\beta \\\\ \\gamma & \\delta\n",
    "\\end{pmatrix} =\n",
    "\\begin{pmatrix}\n",
    "a   \\begin{pmatrix}\n",
    "        \\alpha & \\beta \\\\ \\gamma & \\delta\n",
    "    \\end{pmatrix} &\n",
    "b   \\begin{pmatrix}\n",
    "        \\alpha & \\beta \\\\ \\gamma & \\delta\n",
    "    \\end{pmatrix}\\\\\n",
    "c   \\begin{pmatrix}\n",
    "        \\alpha & \\beta \\\\ \\gamma & \\delta\n",
    "    \\end{pmatrix}&\n",
    "d   \\begin{pmatrix}\n",
    "        \\alpha & \\beta \\\\ \\gamma & \\delta\n",
    "    \\end{pmatrix}\n",
    "\\end{pmatrix} =\n",
    "\\begin{pmatrix}\n",
    "a\\alpha & a\\beta & b\\alpha & b\\beta \\\\\n",
    "a\\gamma & a\\delta & b\\gamma & b\\delta \\\\\n",
    "c\\alpha & c\\beta & d\\alpha & d\\beta \\\\\n",
    "c\\gamma & c\\delta & d\\gamma & d\\delta \\\\\n",
    "\\end{pmatrix}\n",
    "$$\n",
    "\n",
    "An example for 2 qubits:\n",
    "$$ Z \\otimes Z \\left( |0\\rangle \\otimes |1\\rangle \\right) = Z|0\\rangle \\otimes Z|1\\rangle = -|0\\rangle \\otimes |1\\rangle $$\n",
    "\n",
    "\n",
    "The Hilbert space dimension $N$ grows exponentially with the qubit number $n$\n",
    "$$N=2^n$$\n",
    "\n",
    "\n"
   ]
  },
  {
   "cell_type": "code",
   "execution_count": null,
   "metadata": {
    "colab": {
     "base_uri": "https://localhost:8080/"
    },
    "id": "R3ECRkpN-tHf",
    "outputId": "2f0ee3eb-3941-4b59-c3dd-6bbbef13a673"
   },
   "outputs": [
    {
     "name": "stdout",
     "output_type": "stream",
     "text": [
      "0.9999999999999996\n"
     ]
    }
   ],
   "source": [
    "dev2 = qml.device(\"default.qubit\", wires=2)\n",
    "\n",
    "obsZX = qml.PauliZ(0) @ qml.PauliX(1)\n",
    "# Tensor product between the observable Z on the first qubit\n",
    "# and X on the second.\n",
    "\n",
    "@qml.qnode(dev2, interface=\"autograd\")\n",
    "def q2_circuit_1(obs):\n",
    "  qml.Hadamard(wires=1)\n",
    "  return qml.expval(obs)\n",
    "\n",
    "print(q2_circuit_1(obsZX))"
   ]
  },
  {
   "cell_type": "code",
   "execution_count": null,
   "metadata": {
    "colab": {
     "base_uri": "https://localhost:8080/",
     "height": 247
    },
    "id": "58nUh8M8GKR5",
    "outputId": "6027b80c-bf4c-4b8a-e513-b8d72aa4a6c8"
   },
   "outputs": [
    {
     "data": {
      "image/png": "[encoded data removed]",
      "text/plain": [
       "<Figure size 400x300 with 1 Axes>"
      ]
     },
     "metadata": {},
     "output_type": "display_data"
    }
   ],
   "source": [
    "fig, ax = qml.draw_mpl(q2_circuit_1)(obsZX)"
   ]
  },
  {
   "cell_type": "markdown",
   "metadata": {
    "id": "lD9yXOKd8Dnm"
   },
   "source": [
    "### Quantum entaglement\n",
    "\n",
    "We want to build the so-called Greenberger–Horne–Zeilinger (GHZ) state\n",
    "\n",
    "$$\n",
    "\\vert GHZ\\rangle = \\frac{\\vert000\\rangle+\\vert111\\rangle}{\\sqrt{2}}\n",
    "$$\n",
    "\n",
    "This is an **entangled state**. It means that the GHZ state cannot be written as a tensor product of $3$ single qubit states.\n",
    "\n",
    "To get an entangled state we need to use gates that can entangle qubits. The most typical example is the CNOT gate\n",
    "\n",
    "$$\n",
    "CNOT := \\begin{pmatrix}\n",
    "  1 & 0 & 0 & 0 \\\\\n",
    "  0 & 1 & 0 & 0 \\\\\n",
    "  0 & 0 & 0 & 1 \\\\\n",
    "  0 & 0 & 1 & 0\n",
    "\\end{pmatrix}\n",
    "$$\n",
    "\n",
    "We see that it is not possible to decompose this gate into a tensor product of two single-qubit gates"
   ]
  },
  {
   "cell_type": "markdown",
   "metadata": {
    "id": "Ed8aiEQYJTPS"
   },
   "source": [
    "> The CNOT gate, together with the single-qubit gates $H$, $S$, and $T$ is an example of a universal set of gates\n",
    ">\n",
    "> Every $n$-qubit unitary can always be decomposed into these gates, by using tensor products and linear combinations\n",
    ">\n",
    "> Very often, however, it may be necessary to use a number of such gates that grows exponentially in the qubit number $n$.\n",
    "\n",
    "For completeness, the definition of a $T$ gate is:\n",
    "$$\n",
    "T = \\sqrt{S} =\n",
    "\\begin{pmatrix}\n",
    "        1 & 0 \\\\ 0 & e^{i \\frac{\\pi}{4}}\n",
    "\\end{pmatrix}\n",
    "$$\n",
    "\n",
    "If you are curious, [here](https://en.wikipedia.org/wiki/Clifford_gates) is a brief description of this set of gates, within an active area of research (Clifford circuits)\n"
   ]
  },
  {
   "cell_type": "code",
   "execution_count": null,
   "metadata": {
    "id": "Xu3lBkJ67qWt"
   },
   "outputs": [],
   "source": [
    " # we use an emulator of measurements (emulator of a real experiment): shots\n",
    "\n",
    "dev2 = qml.device(\"default.qubit\", wires=2, shots=10)\n",
    "\n",
    "@qml.qnode(dev2, interface=\"autograd\")\n",
    "def q2_circuit_2():\n",
    "  qml.Hadamard(wires=0)\n",
    "  qml.CNOT(wires=[0,1]) # control, target\n",
    "  #return qml.counts()\n",
    "  # return qml.counts(qml.PauliZ(0)), qml.counts(qml.PauliZ(1)) # the same as above ( default is in the computational basis Z(0) Z(1) )\n",
    "  return qml.sample(qml.PauliZ(0)), qml.sample(qml.PauliZ(1)) # to get the string of results (eigenvalues)"
   ]
  },
  {
   "cell_type": "code",
   "execution_count": null,
   "metadata": {
    "colab": {
     "base_uri": "https://localhost:8080/",
     "height": 247
    },
    "id": "CUVFXBrqKlhE",
    "outputId": "8e80ca99-9f74-45db-d8c4-b35970adee33"
   },
   "outputs": [
    {
     "data": {
      "image/png": "[encoded data removed]",
      "text/plain": [
       "<Figure size 500x300 with 1 Axes>"
      ]
     },
     "metadata": {},
     "output_type": "display_data"
    }
   ],
   "source": [
    "fig, ax = qml.draw_mpl(q2_circuit_2)()"
   ]
  },
  {
   "cell_type": "code",
   "execution_count": null,
   "metadata": {
    "colab": {
     "base_uri": "https://localhost:8080/"
    },
    "id": "FIjQVLzZLZAE",
    "outputId": "2a4a9aac-73ad-4658-e45f-3994fb78b714"
   },
   "outputs": [
    {
     "name": "stdout",
     "output_type": "stream",
     "text": [
      "[[-1 -1 -1 -1 -1 -1  1 -1 -1 -1]\n",
      " [-1 -1 -1 -1 -1 -1  1 -1 -1 -1]]\n"
     ]
    }
   ],
   "source": [
    "# if you re-run it, the result changes: RANDOMNESS\n",
    "\n",
    "print(q2_circuit_2())"
   ]
  },
  {
   "cell_type": "code",
   "execution_count": null,
   "metadata": {
    "colab": {
     "base_uri": "https://localhost:8080/"
    },
    "id": "MddtuqYtNe-8",
    "outputId": "160d8b39-8b06-4ab9-9a1e-f9d8dc500f83"
   },
   "outputs": [
    {
     "name": "stdout",
     "output_type": "stream",
     "text": [
      "[0.70710678+0.j 0.        +0.j 0.        +0.j 0.70710678+0.j]\n"
     ]
    }
   ],
   "source": [
    "# exact computation via linear algebra (only possible for small systems)\n",
    "\n",
    "@qml.qnode(dev2, interface=\"autograd\")\n",
    "def q2_circuit_3():\n",
    "  qml.Hadamard(wires=0)\n",
    "  qml.CNOT(wires=[0,1])\n",
    "  return qml.state()\n",
    "\n",
    "print(q2_circuit_3())"
   ]
  },
  {
   "cell_type": "markdown",
   "metadata": {
    "id": "QbA8nHyGJTPS"
   },
   "source": [
    "Finally, here is the quantum circuit for the GHZ state (3 qubits) that generalizes the one above for 2 qubits:"
   ]
  },
  {
   "cell_type": "code",
   "execution_count": null,
   "metadata": {
    "id": "DS3gE2dSJTPS",
    "outputId": "618faf77-da0d-4f88-aea9-cacd806b3dff"
   },
   "outputs": [
    {
     "name": "stdout",
     "output_type": "stream",
     "text": [
      "GHZ state vector:\n",
      " [0.70710678+0.j 0.        +0.j 0.        +0.j 0.        +0.j\n",
      " 0.        +0.j 0.        +0.j 0.        +0.j 0.70710678+0.j]\n"
     ]
    },
    {
     "name": "stderr",
     "output_type": "stream",
     "text": [
      "/var/folders/jc/6y3wc_gn0js3cpbnpgyk6pmh0000gn/T/ipykernel_49880/2481704098.py:17: UserWarning: Matplotlib is currently using module://matplotlib_inline.backend_inline, which is a non-GUI backend, so cannot show the figure.\n",
      "  fig.show()\n"
     ]
    },
    {
     "data": {
      "image/png": "[encoded data removed]",
      "text/plain": [
       "<Figure size 600x400 with 1 Axes>"
      ]
     },
     "metadata": {},
     "output_type": "display_data"
    }
   ],
   "source": [
    "# Define the quantum device\n",
    "dev3 = qml.device(\"default.qubit\", wires=3)\n",
    "\n",
    "# Define the QNode to construct the GHZ state\n",
    "@qml.qnode(dev3)\n",
    "def ghz_state():\n",
    "    qml.Hadamard(wires=0)  # Apply Hadamard gate to the first qubit\n",
    "    qml.CNOT(wires=[0, 1])  # Entangle the first and second qubits\n",
    "    qml.CNOT(wires=[0, 2])  # Entangle the first and third qubits\n",
    "    return qml.state()\n",
    "\n",
    "ghz = ghz_state()\n",
    "print(\"GHZ state vector:\\n\", ghz)\n",
    "\n",
    "# Draw the circuit\n",
    "fig, ax = qml.draw_mpl(ghz_state)()\n",
    "fig.show()\n"
   ]
  },
  {
   "cell_type": "markdown",
   "metadata": {
    "id": "n1YxV-AdVmMm"
   },
   "source": [
    "## Exercise 3\n",
    "\n",
    "One of the most famous algorithms in quantum computing is quantum **teleportation**.\n",
    "\n",
    "Teleportation is a protocol that transfers the state of a qubit held by one party (Alice) to that of a qubit held by a second party (Bob); the key ingredient is that the parties share a pair of entangled qubits.\n",
    "\n",
    "It is valid for a generic single-qubit state\n",
    "$\\psi = \\alpha |0\\rangle + \\beta|1\\rangle \\ \\ \\text{with}  \\ \\ |\\alpha|^2 +  |\\beta|^2 = 1$\n",
    "\n",
    "<p align=\"center\">\n",
    "  <img src=\"teleportation.png\" style=\"height: 300px;width: auto\" />\n",
    "</p>\n",
    "\n",
    "In the actual quantum teleportation protocol, the measurements are done *before* the last two controlled gates and *classical communication* is required between Alice and Bob:\n",
    "\n",
    "No superluminal communication is possible\n",
    "\n",
    "Write the code of a circuit on three qubits implementing the teleportation protocol as indicated in the figure. The last gate is the CZ gate (`qml.CZ`)"
   ]
  },
  {
   "cell_type": "code",
   "execution_count": null,
   "metadata": {
    "id": "dVW9MmvMVntx",
    "outputId": "c172d75c-8d53-4b2d-dd61-1ae9e3980a3f"
   },
   "outputs": [
    {
     "name": "stdout",
     "output_type": "stream",
     "text": [
      "[0.99875026+0.j 0.        +0.j 0.        +0.j 0.        +0.j\n",
      " 0.04997917+0.j 0.        +0.j 0.        +0.j 0.        +0.j]\n"
     ]
    }
   ],
   "source": [
    "##############\n",
    "# Add device\n",
    "##############\n",
    "dev = qml.device(\"default.qubit\", wires=3)\n",
    "\n",
    "# OPTIONALLY UPDATE THIS STATE PREPARATION ROUTINE\n",
    "def state_preparation():\n",
    "  qml.RY(0.1, wires=0)\n",
    "\n",
    "@qml.qnode(dev)\n",
    "def teleportation():\n",
    "  state_preparation()\n",
    "\n",
    "  ##############\n",
    "  # Add circuit\n",
    "  ##############\n",
    "\n",
    "  return qml.state()\n",
    "\n",
    "print(teleportation())"
   ]
  },
  {
   "cell_type": "code",
   "execution_count": null,
   "metadata": {
    "id": "hpR5X8KD3kf6"
   },
   "outputs": [],
   "source": [
    "# Check the original single-qubit state and the teleported state on 3 qubit\n",
    "\n",
    "dev = qml.device(\"default.qubit\", wires=1)\n",
    "@qml.qnode(dev)\n",
    "def state_preparation_check():\n",
    "  qml.RY(0.1, wires=0)\n",
    "  return qml.state()\n",
    "\n",
    "print(state_preparation_check())\n",
    "print(teleportation())"
   ]
  },
  {
   "cell_type": "markdown",
   "metadata": {
    "id": "a8pG2k_VaAj8"
   },
   "source": [
    "With this knowledge, write a function that takes a state vector as input, and outputs the state of the third qubit as a two-element vector. Does it match the original state above?\n",
    "\n",
    "<div class=\"alert-block alert-info\">\n",
    "\t&#128161; <b>Hint:</b> The 3-qubit state is of the type\n",
    "</div>\n",
    "\n",
    "$$\n",
    "\\frac{1}{2}\\left(\\vert00\\rangle+\\vert01\\rangle+\\vert10\\rangle+\\vert11\\rangle\\right)(\\alpha\\vert0\\rangle+\\beta\\vert1\\rangle)\n",
    "$$"
   ]
  },
  {
   "cell_type": "code",
   "execution_count": 7,
   "metadata": {
    "id": "-jj43G5NZSR4"
   },
   "outputs": [
    {
     "ename": "NameError",
     "evalue": "name 'teleportation' is not defined",
     "output_type": "error",
     "traceback": [
      "\u001b[0;31m---------------------------------------------------------------------------\u001b[0m",
      "\u001b[0;31mNameError\u001b[0m                                 Traceback (most recent call last)",
      "Cell \u001b[0;32mIn[7], line 24\u001b[0m\n\u001b[1;32m     21\u001b[0m     \u001b[38;5;28;01mreturn\u001b[39;00m np\u001b[38;5;241m.\u001b[39marray([a, b])\n\u001b[1;32m     23\u001b[0m \u001b[38;5;66;03m# Print the extracted state after teleportation\u001b[39;00m\n\u001b[0;32m---> 24\u001b[0m full_state \u001b[38;5;241m=\u001b[39m \u001b[43mteleportation\u001b[49m()\n\u001b[1;32m     25\u001b[0m \u001b[38;5;28mprint\u001b[39m(extract_qubit_state(full_state))\n",
      "\u001b[0;31mNameError\u001b[0m: name 'teleportation' is not defined"
     ]
    }
   ],
   "source": [
    "def extract_qubit_state(input_state):\n",
    "    \"\"\"Extract the state of the third qubit from the combined state after teleportation.\n",
    "\n",
    "    Args:\n",
    "        input_state (array[complex]): A 3-qubit state of the form\n",
    "            (1/2)(|00> + |01> + |10> + |11>) (a|0> + b|1>)\n",
    "            obtained from the teleportation protocol.\n",
    "\n",
    "    Returns:\n",
    "        array[complex]: The state vector np.array([a, b]) of the third qubit.\n",
    "    \"\"\"\n",
    "\n",
    "    ##################\n",
    "    # YOUR CODE HERE #\n",
    "    ##################\n",
    "    a = np.sum(input_state[::2])/2 # sum over terms with even index\n",
    "    b = np.sum(input_state[1::2])/2  # sum over the terms with odd index\n",
    "\n",
    "    # DETERMINE THE STATE OF THE THIRD QUBIT\n",
    "\n",
    "    return np.array([a, b])\n",
    "\n",
    "# Print the extracted state after teleportation\n",
    "full_state = teleportation()\n",
    "print(extract_qubit_state(full_state))"
   ]
  },
  {
   "cell_type": "markdown",
   "metadata": {
    "id": "P6_dzRB2JTPT"
   },
   "source": [
    "<div class=\"alert-block alert-success\">\n",
    "\t&#10003; <b>Well done!</b> Lesson number 1 is over.\n",
    "</div>"
   ]
  },
  {
   "cell_type": "code",
   "execution_count": null,
   "metadata": {},
   "outputs": [],
   "source": []
  }
 ],
 "metadata": {
  "colab": {
   "provenance": []
  },
  "gpuClass": "standard",
  "kernelspec": {
   "display_name": "Python 3 (ipykernel)",
   "language": "python",
   "name": "python3"
  },
  "language_info": {
   "codemirror_mode": {
    "name": "ipython",
    "version": 3
   },
   "file_extension": ".py",
   "mimetype": "text/x-python",
   "name": "python",
   "nbconvert_exporter": "python",
   "pygments_lexer": "ipython3",
   "version": "3.12.0"
  }
 },
 "nbformat": 4,
 "nbformat_minor": 4
}
