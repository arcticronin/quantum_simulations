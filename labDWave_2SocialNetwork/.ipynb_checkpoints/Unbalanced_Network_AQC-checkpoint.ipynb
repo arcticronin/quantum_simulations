{
  "cells": [
    {
      "cell_type": "markdown",
      "metadata": {
        "id": "3wy0m-t_pFBL"
      },
      "source": [
        "# Structural Imbalance in a Social Network\n",
        "\n",
        "## Introduction to the problem"
      ]
    },
    {
      "cell_type": "markdown",
      "metadata": {
        "id": "5C8gpMvUk2QZ"
      },
      "source": [
        "> &#128161; This lesson is strongly inspired by the DWave Ocean Tutorial of Structural Imbalance in a Social Network.\n",
        "\n",
        "**Social networks**: map relationships between people onto graphs. The people are the nodes and their relationships are the edges.\n",
        "\n",
        "**Signed social networks**: map friendly and hostile relationships by assigning to edges either positive or negative values.\n",
        "\n",
        "Such networks are said to be *structurally balanced* when they can be divided into two sets, with each set containing only friends, and all relations between these sets are hostile.\n",
        "\n",
        "The measure of *frustration*, or structural imbalance, for a signed social network is the minimum number of edges that violate the social rule:\n",
        "> **Social rule:** \"The enemy of my friend is my enemy\"\n",
        "\n",
        "Finding a division that minimizes frustration is an NP-hard graph problem (is an expansion of the max-cut problem!)."
      ]
    },
    {
      "cell_type": "markdown",
      "source": [
        "---\n",
        "## NetworkX Python library"
      ],
      "metadata": {
        "id": "MgFcMZ30REYe"
      }
    },
    {
      "cell_type": "markdown",
      "source": [
        "So first of all, let's see how to work with graphs in python!\n",
        "The most famous library for this is `networkx`."
      ],
      "metadata": {
        "id": "crTkdmr4IY6Z"
      }
    },
    {
      "cell_type": "code",
      "source": [
        "import networkx as nx\n",
        "\n",
        "G1 = nx.Graph()\n",
        "G1.add_node(1)\n",
        "G1.add_node(2)\n",
        "G1.add_node(3)\n",
        "G1.add_edge(1,2)\n",
        "G1.add_edge(2,3)\n",
        "G1.add_edge(3,1)\n",
        "\n",
        "nx.draw(G1)"
      ],
      "metadata": {
        "id": "1G1LeiPGI_E5"
      },
      "execution_count": null,
      "outputs": []
    },
    {
      "cell_type": "code",
      "source": [
        "G2 = nx.Graph()\n",
        "G2.add_edges_from([(1,2), (2,3), (3,1)])\n",
        "nx.draw(G2)"
      ],
      "metadata": {
        "id": "7WgxZbbFKOhx"
      },
      "execution_count": null,
      "outputs": []
    },
    {
      "cell_type": "code",
      "source": [
        "G3 = nx.complete_graph(3)\n",
        "nx.draw(G3)"
      ],
      "metadata": {
        "id": "uGGCdDkdLMst"
      },
      "execution_count": null,
      "outputs": []
    },
    {
      "cell_type": "markdown",
      "source": [
        "Attributes such as weights, labels, colors, or whatever Python object you like, can be attached to graphs, nodes, or edges.\n",
        "\n",
        "Each graph, node, and edge can hold key/value attribute pairs in an associated attribute dictionary (the keys must be hashable). By default these are empty, but attributes can be added or changed using `add_edge`, `add_node` or direct manipulation of the attribute dictionaries named `G.graph`, `G.nodes`, and `G.edges` for a graph `G`."
      ],
      "metadata": {
        "id": "cFcHcVSALthm"
      }
    },
    {
      "cell_type": "code",
      "source": [
        "G4 = nx.Graph()\n",
        "G4.add_edges_from([\n",
        "    (0,1, {'edge attribute': 'first edge'}),\n",
        "    (1,2, {'edge attribute': 'second edge'}),\n",
        "    (2,0, {'edge attribute': 'third edge'}),\n",
        "])\n",
        "\n",
        "pos = nx.spring_layout(G4, seed=0) #there are many layouts\n",
        "labels = nx.get_edge_attributes(G4, 'edge attribute')\n",
        "\n",
        "nx.draw(G4, pos, with_labels=True)\n",
        "nx.draw_networkx_edge_labels(G4, pos, edge_labels=labels)"
      ],
      "metadata": {
        "id": "XD7myHQZMHnr"
      },
      "execution_count": null,
      "outputs": []
    },
    {
      "cell_type": "code",
      "source": [],
      "metadata": {
        "id": "AXPeHfHiMaFK"
      },
      "execution_count": null,
      "outputs": []
    },
    {
      "cell_type": "markdown",
      "source": [
        "Now let's switch to Ising model in order to solve the same problem!"
      ],
      "metadata": {
        "id": "cJ1j0sF3MoXp"
      }
    },
    {
      "cell_type": "markdown",
      "source": [
        "---\n",
        "## Ising Formulation of the signed unbalanced network"
      ],
      "metadata": {
        "id": "3EdjGSFhRMQY"
      }
    },
    {
      "cell_type": "markdown",
      "metadata": {
        "id": "tBDvhzUSjedX"
      },
      "source": [
        "Recall what we said last time.\n",
        "\n",
        "Copy your API token (on the webpage click `COPY`) and paste it in the cell below next to the symbol `>`\n",
        "\n"
      ]
    },
    {
      "cell_type": "code",
      "execution_count": null,
      "metadata": {
        "id": "FGKXoOHjjeQp"
      },
      "outputs": [],
      "source": [
        "# COPY HERE >"
      ]
    },
    {
      "cell_type": "markdown",
      "metadata": {
        "id": "G4mauaFljjzV"
      },
      "source": [
        "Make all the necessary imports as explained in `Ising_Problem_AQC.ipynb`."
      ]
    },
    {
      "cell_type": "code",
      "execution_count": null,
      "metadata": {
        "id": "cZ4JITAbjB8D"
      },
      "outputs": [],
      "source": [
        "try:\n",
        "  import google.colab\n",
        "  IN_COLAB = True\n",
        "except:\n",
        "  IN_COLAB = False\n",
        "\n",
        "if IN_COLAB:\n",
        "  !pip install dwave-ocean-sdk && dwave config create"
      ]
    },
    {
      "cell_type": "code",
      "execution_count": null,
      "metadata": {
        "id": "kYQwDpSukMnm"
      },
      "outputs": [],
      "source": [
        "from dwave.cloud import Client\n",
        "with Client.from_config() as client:\n",
        "  available_solvers = client.get_solvers()\n",
        "\n",
        "for solver in available_solvers:\n",
        "  print(solver)"
      ]
    },
    {
      "cell_type": "code",
      "execution_count": null,
      "metadata": {
        "id": "61vws7qtkyYc"
      },
      "outputs": [],
      "source": [
        "from dwave.cloud import Client\n",
        "with Client.from_config() as client:\n",
        "  solver = client.get_solver('Advantage_system6.4')   # SELECT THE SOLVER"
      ]
    },
    {
      "cell_type": "markdown",
      "source": [
        "\n",
        "In this case, variables $s_i$ can represent people, with values $-1,+1$ denoting a person's assignment to one of the two sets you want to divide the social network into. If you set $J_{i,j}$ to $-1$ for friendly $s_is_j$ pairs and $+1$ for hostile pairs, their multiplication takes values\n",
        "\n",
        "$J_{i,j} s_i s_j=\n",
        "\\begin{cases}\n",
        "      -1 & \\text{friends in same set (} s_i=s_j \\text{) or enemies in different sets ($s_i \\ne s_j$)} \\\\\n",
        "      +1 & \\text{friends in different sets ($s_i \\ne s_j$) or enemies in same set ($s_i=s_j$)}\n",
        "\\end{cases}\n",
        "$\n",
        "\n",
        "The summation $\\sum_{i<j}^N J_{i,j} s_i s_j$ now decrements when an assignment contributes to balance and increments when it contributes to frustration.\n",
        "\n",
        "If you set $h_i=0$, the Ising model is just $\\sum_{i<j}^N J_{i,j} s_i s_j$. Programmed with these coefficients for a given signed social network, the quantum computer finds partitions (assignments of $s_i$) that minimize frustration."
      ],
      "metadata": {
        "id": "6QZ1lyCIf_Eu"
      }
    },
    {
      "cell_type": "markdown",
      "source": [
        "##### **Exercise 1**\n",
        "Write the Ising model associated with the following social network:\n",
        "\n",
        "Friendly relationships:\n",
        "-\tAlice & Carl\n",
        "-\tAlice & David\n",
        "- Bob & Carl\n",
        "\n",
        "Hostile relationships:\n",
        "-\tAlice & Bob\n",
        "-\tBob & David\n"
      ],
      "metadata": {
        "id": "4MXfxrA6NLns"
      }
    },
    {
      "cell_type": "code",
      "source": [],
      "metadata": {
        "id": "4SE0SloJNKvh"
      },
      "execution_count": null,
      "outputs": []
    },
    {
      "cell_type": "code",
      "source": [
        "from dwave.system import EmbeddingComposite, DWaveSampler\n"
      ],
      "metadata": {
        "id": "SDHQUIF8NKs9"
      },
      "execution_count": null,
      "outputs": []
    },
    {
      "cell_type": "code",
      "source": [],
      "metadata": {
        "id": "RMriVgHOP7I0"
      },
      "execution_count": null,
      "outputs": []
    },
    {
      "cell_type": "markdown",
      "source": [
        "## The `SampleSet` class"
      ],
      "metadata": {
        "id": "ikwcfQ8_QdFI"
      }
    },
    {
      "cell_type": "markdown",
      "source": [
        "When you submit a problem to the quantum computer through the `sample_ising` function, the output is a `SampleSet`."
      ],
      "metadata": {
        "id": "ZGGwDUTKQmLT"
      }
    },
    {
      "cell_type": "markdown",
      "source": [
        "##### **Exercise 2**\n",
        "\n",
        "Go into the documentation and explore how a `SampleSet` object is structured."
      ],
      "metadata": {
        "id": "md4AcYV4Q15Y"
      }
    },
    {
      "cell_type": "code",
      "source": [],
      "metadata": {
        "id": "t8aVR5ozQl2l"
      },
      "execution_count": null,
      "outputs": []
    },
    {
      "cell_type": "markdown",
      "source": [
        "##### **Exercise 3**"
      ],
      "metadata": {
        "id": "PyFIHnPtRDro"
      }
    },
    {
      "cell_type": "markdown",
      "source": [
        "Take the output of the previous `sample_ising` and print the sample with the lowest energy.\n",
        "\n",
        "> &#128161; **Hint!** There is a PROPERTY of a `SampleSet` for that."
      ],
      "metadata": {
        "id": "jG3n020HRHF_"
      }
    },
    {
      "cell_type": "code",
      "source": [],
      "metadata": {
        "id": "gH0ixlufRGci"
      },
      "execution_count": null,
      "outputs": []
    },
    {
      "cell_type": "markdown",
      "source": [
        "---\n",
        "## Graph formulation and convertion to Ising problem"
      ],
      "metadata": {
        "id": "VqVxODSLRUED"
      }
    },
    {
      "cell_type": "markdown",
      "source": [
        "You can formulate an unbalanced network problem in a graph using `networkx`."
      ],
      "metadata": {
        "id": "rdbT5GV2W23L"
      }
    },
    {
      "cell_type": "markdown",
      "source": [
        "##### **Exercise 4**\n",
        "\n",
        "Write the GRAPH model associated with the following social network (same as before):\n",
        "\n",
        "Friendly relationships:\n",
        "-\tAlice & Carl\n",
        "-\tAlice & David\n",
        "- Bob & Carl\n",
        "\n",
        "Hostile relationships:\n",
        "-\tAlice & Bob\n",
        "-\tBob & David"
      ],
      "metadata": {
        "id": "0hxpANxOXGRY"
      }
    },
    {
      "cell_type": "markdown",
      "source": [
        "> &#9888;&#65039; **Attention!** Here a bad relationship is associated with a negative sign!"
      ],
      "metadata": {
        "id": "H99h5WKTXV-T"
      }
    },
    {
      "cell_type": "code",
      "source": [],
      "metadata": {
        "id": "ObZwxP4BSiAB"
      },
      "execution_count": null,
      "outputs": []
    },
    {
      "cell_type": "markdown",
      "source": [
        "Now we need to convert it in an Ising model. The next cell does that for you:"
      ],
      "metadata": {
        "id": "mifEt6yVXzf-"
      }
    },
    {
      "cell_type": "code",
      "source": [
        "h = {v: 0 for v in G}\n",
        "\n",
        "J = {}\n",
        "for v1, v2, data in G.edges(data=True):\n",
        "  J[(v1,v2)] = -1 * data['sign']"
      ],
      "metadata": {
        "id": "ndvxIOY7X-I4"
      },
      "execution_count": null,
      "outputs": []
    },
    {
      "cell_type": "markdown",
      "source": [
        "> &#9888;&#65039; **Attention!** The factor `-1` accounts for the fact that in the Ising model an energy-fevored term has negative net sign."
      ],
      "metadata": {
        "id": "C4whEqygX_9B"
      }
    },
    {
      "cell_type": "markdown",
      "metadata": {
        "id": "SE_1Z8-NC_F6"
      },
      "source": [
        "Now we are able to solve the Ising problem as always:"
      ]
    },
    {
      "cell_type": "code",
      "execution_count": null,
      "metadata": {
        "id": "77zFZETrC8Ya"
      },
      "outputs": [],
      "source": [
        "sampler = EmbeddingComposite(DWaveSampler('Advantage_system6.4'))\n",
        "response = sampler.sample_ising(h,J)"
      ]
    },
    {
      "cell_type": "code",
      "execution_count": null,
      "metadata": {
        "id": "pi073VxrKqjL"
      },
      "outputs": [],
      "source": [
        "response.to_pandas_dataframe()"
      ]
    },
    {
      "cell_type": "markdown",
      "source": [
        "## Big Networks"
      ],
      "metadata": {
        "id": "Ndy_UFddPe8V"
      }
    },
    {
      "cell_type": "markdown",
      "source": [
        "##### **Exercise 5**\n",
        "\n",
        "Let's make it BIGGER!!\n",
        "Build a network (graph) of 10 people with random relationships."
      ],
      "metadata": {
        "id": "n_5dPonESrm8"
      }
    },
    {
      "cell_type": "code",
      "execution_count": null,
      "metadata": {
        "id": "VuRmM2oUCHd-"
      },
      "outputs": [],
      "source": [
        "import random\n",
        "\n",
        "# make the network\n",
        "\n",
        "G ="
      ]
    },
    {
      "cell_type": "code",
      "source": [
        "# convert it to ising"
      ],
      "metadata": {
        "id": "yE3T441CbkWM"
      },
      "execution_count": null,
      "outputs": []
    },
    {
      "cell_type": "code",
      "source": [
        "# solve it\n",
        "\n",
        "sampler = EmbeddingComposite(DWaveSampler('Advantage_system6.4'))\n",
        "response = sampler.sample_ising(h,J)\n",
        "sample = next(iter(response))\n",
        "\n",
        "colors = {v: (spin+1)//2 for v, spin in sample.items()}\n",
        "\n",
        "frustrated_edges = {}\n",
        "\n",
        "for u, v, data in G.edges(data=True):\n",
        "    sign = data['sign']\n",
        "\n",
        "    if sign > 0 and colors[u] != colors[v]:\n",
        "        frustrated_edges[(u, v)] = data\n",
        "    elif sign < 0 and colors[u] == colors[v]:\n",
        "        frustrated_edges[(u, v)] = data\n",
        "    # else: not frustrated or sign == 0, no relation to violate"
      ],
      "metadata": {
        "id": "TtiIf8xdY8am"
      },
      "execution_count": null,
      "outputs": []
    },
    {
      "cell_type": "code",
      "source": [
        "# Mark on the graph the returned frustrated edges and node set (color)\n",
        "for edge in G.edges:\n",
        "    G.edges[edge]['frustrated'] = edge in frustrated_edges\n",
        "for node in G.nodes:\n",
        "    G.nodes[node]['color'] = colors[node]\n",
        "\n",
        "print('Yellow set: \\n\\t' + '\\n\\t'.join(list(person for (person, color) in colors.items() if (color == 0))))\n",
        "print('Blue set: \\n\\t' + '\\n\\t'.join(list(person for (person, color) in colors.items() if (color == 1))))\n",
        "print('Frustrated relationships: \\n\\t' + '\\n\\t'.join(list(x + \" & \" + y for (x, y) in frustrated_edges.keys())))"
      ],
      "metadata": {
        "id": "C3dDHxCJZO5v"
      },
      "execution_count": null,
      "outputs": []
    },
    {
      "cell_type": "markdown",
      "metadata": {
        "id": "km6v485vKqMb"
      },
      "source": [
        "Then we can make a fancy drawing of the solution."
      ]
    },
    {
      "cell_type": "code",
      "execution_count": null,
      "metadata": {
        "id": "GzicSTMeLkJ5"
      },
      "outputs": [],
      "source": [
        "import matplotlib.pyplot as plt\n",
        "from collections import defaultdict\n",
        "from itertools import product\n",
        "\n",
        "edgelist = G.edges()\n",
        "nodelist = G.nodes()\n",
        "\n",
        "position = nx.circular_layout(G) # try more fancy layouts\n",
        "\n",
        "fig, ax = plt.subplots(figsize=(8,8))\n",
        "ax.set_xlim([-1.2,1.2])\n",
        "ax.set_ylim([-1.2,1.2])\n",
        "ax.set_facecolor('#202239')\n",
        "circle_size = 200\n",
        "\n",
        "edge_color = ['#87DACD' if G[v1][v2]['sign'] == 1 else '#FC9291' for v1,v2 in edgelist]\n",
        "node_color = ['#4378F8' if nodelist[v]['color'] else '#FFE897' for v in nodelist]\n",
        "edge_style = ['dashed' if G[u][v]['frustrated'] else 'solid' for u,v in edgelist]\n",
        "\n",
        "nx.draw_networkx_nodes(G, pos = position, node_color=node_color, node_size=circle_size)\n",
        "edge_collect = nx.draw_networkx_edges(G, pos = position, edgelist=edgelist, edge_color=edge_color, style=edge_style)\n",
        "\n",
        "nx.draw_networkx_labels(G, pos=position, font_size=20, font_color='white', horizontalalignment='right', verticalalignment='top')\n",
        "\n",
        "plt.show()"
      ]
    },
    {
      "cell_type": "code",
      "source": [
        "edgelist = G.edges()\n",
        "nodelist = G.nodes()\n",
        "\n",
        "dist = defaultdict(dict)\n",
        "for u,v in product(nodelist, repeat=2):\n",
        "  if u == v:\n",
        "    dist[u][v] = 0\n",
        "  elif nodelist[u]['color'] == nodelist[v]['color']:\n",
        "    dist[u][v] = 1\n",
        "  else:\n",
        "    dist[u][v] = 2\n",
        "position = nx.kamada_kawai_layout(G, dist)\n",
        "\n",
        "fig, ax = plt.subplots(figsize=(8,8))\n",
        "ax.set_xlim([-1.2,1.2])\n",
        "ax.set_ylim([-1.2,1.2])\n",
        "ax.set_facecolor('#202239')\n",
        "circle_size = 200\n",
        "\n",
        "edge_color = ['#87DACD' if G[v1][v2]['sign'] == 1 else '#FC9291' for v1,v2 in edgelist]\n",
        "node_color = ['#4378F8' if nodelist[v]['color'] else '#FFE897' for v in nodelist]\n",
        "edge_style = ['dashed' if G[u][v]['frustrated'] else 'solid' for u,v in edgelist]\n",
        "\n",
        "nx.draw_networkx_nodes(G, pos = position, node_color=node_color, node_size=circle_size)\n",
        "edge_collect = nx.draw_networkx_edges(G, pos = position, edgelist=edgelist, edge_color=edge_color, style=edge_style)\n",
        "\n",
        "nx.draw_networkx_labels(G, pos=position, font_size=20, font_color='white', horizontalalignment='right', verticalalignment='top')\n",
        "\n",
        "plt.show()"
      ],
      "metadata": {
        "id": "ALe7RsNOYvi5"
      },
      "execution_count": null,
      "outputs": []
    },
    {
      "cell_type": "markdown",
      "source": [
        "## Embedding Composites"
      ],
      "metadata": {
        "id": "vJShYVkqPQbk"
      }
    },
    {
      "cell_type": "markdown",
      "metadata": {
        "id": "OjP6oiJ0H_XH"
      },
      "source": [
        "First of all we need to know more about the structure of the qpu: we can ask DWave the\n",
        "- `target_edgelist`: list containing every edge in the topology\n",
        "- `target_edjacency`: dictionary containing the list of neighbours for every qubit"
      ]
    },
    {
      "cell_type": "code",
      "execution_count": null,
      "metadata": {
        "id": "ofC2GnmLH6yQ"
      },
      "outputs": [],
      "source": [
        "sampler = DWaveSampler() # no embedding composite!\n",
        "\n",
        "# have a look at the structure of the qpu\n",
        "__, target_edgelist, target_adjacency = sampler.structure\n",
        "\n",
        "for key, value in target_adjacency.items():\n",
        "  print(f\"Qubit {key} is connected to\\t{value}\")\n"
      ]
    },
    {
      "cell_type": "markdown",
      "source": [
        "If you want to see the embedding used, a very useful tool is `minorminer`. It finds in an optimal way the best embedding for your model. You can save the embedding with `find_embedding` and then use it into `FixedEmbeddingComposite`.\n",
        "\n",
        "The difference between `EmbeddingComposite` and `FixedEmbeddingComposite` is that in the latter the embedding is... fixed! So you choose the embedding to use and every time you run the code, the embedding will be the same! On the contrary, when you use `EmbeddingComposite`, every time you run the code the embedding changes. This is unfortunate for scientists who always want their experiments to be reproducible!"
      ],
      "metadata": {
        "id": "Dd6s-yy8GM-x"
      }
    },
    {
      "cell_type": "code",
      "execution_count": null,
      "metadata": {
        "id": "Biz51hb1G1SQ"
      },
      "outputs": [],
      "source": [
        "from minorminer import find_embedding\n",
        "import numpy as np\n",
        "\n",
        "embedding = find_embedding(J, target_edgelist)\n",
        "embedding"
      ]
    },
    {
      "cell_type": "code",
      "source": [
        "from dwave.system.composites import FixedEmbeddingComposite\n",
        "\n",
        "sampler = DWaveSampler() # no embedding composite!\n",
        "\n",
        "solver = FixedEmbeddingComposite(sampler, embedding)\n",
        "N_reads = 100\n",
        "\n",
        "response = solver.sample_ising(h, J, num_reads=N_reads, return_embedding=True)\n"
      ],
      "metadata": {
        "id": "oD-im036GXKp"
      },
      "execution_count": null,
      "outputs": []
    },
    {
      "cell_type": "code",
      "source": [
        "embedding"
      ],
      "metadata": {
        "id": "zYVT4IwlhGMh"
      },
      "execution_count": null,
      "outputs": []
    },
    {
      "cell_type": "code",
      "source": [
        "response.record"
      ],
      "metadata": {
        "id": "LzABv9P1JQSF"
      },
      "execution_count": null,
      "outputs": []
    },
    {
      "cell_type": "code",
      "source": [
        "response.to_pandas_dataframe()"
      ],
      "metadata": {
        "id": "6EemBCw3bzik"
      },
      "execution_count": null,
      "outputs": []
    },
    {
      "cell_type": "code",
      "source": [
        "response.info"
      ],
      "metadata": {
        "id": "MkNz0VQ2hdMa"
      },
      "execution_count": null,
      "outputs": []
    },
    {
      "cell_type": "markdown",
      "source": [
        "## Real world application"
      ],
      "metadata": {
        "id": "75MT-fCbPoqC"
      }
    },
    {
      "cell_type": "code",
      "source": [
        "# https://github.com/dwave-examples/structural-imbalance-notebook/blob/master/01-structural-imbalance-overview.ipynb"
      ],
      "metadata": {
        "id": "CV6Rz3blIoiw"
      },
      "execution_count": null,
      "outputs": []
    },
    {
      "cell_type": "markdown",
      "source": [],
      "metadata": {
        "id": "e0n69l1FgEsy"
      }
    }
  ],
  "metadata": {
    "colab": {
      "provenance": [],
      "toc_visible": true
    },
    "kernelspec": {
      "display_name": "Python 3",
      "name": "python3"
    },
    "language_info": {
      "name": "python"
    }
  },
  "nbformat": 4,
  "nbformat_minor": 0
}