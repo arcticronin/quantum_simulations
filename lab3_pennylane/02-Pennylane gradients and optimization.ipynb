{
 "cells": [
  {
   "cell_type": "code",
   "execution_count": 13,
   "metadata": {
    "id": "QEtoWpCEYcz9",
    "ExecuteTime": {
     "end_time": "2024-04-03T10:58:24.172668Z",
     "start_time": "2024-04-03T10:58:24.169818Z"
    }
   },
   "outputs": [],
   "source": [
    "#!pip install pennylane"
   ]
  },
  {
   "cell_type": "code",
   "execution_count": 14,
   "metadata": {
    "id": "_4ZmyzvQLNSz",
    "ExecuteTime": {
     "end_time": "2024-04-03T10:58:24.258701Z",
     "start_time": "2024-04-03T10:58:24.255437Z"
    }
   },
   "outputs": [],
   "source": [
    "# basic imports\n",
    "\n",
    "import pennylane as qml\n",
    "from pennylane import numpy as np # always import numpy like this!\n",
    "from matplotlib import pyplot as plt"
   ]
  },
  {
   "cell_type": "markdown",
   "metadata": {
    "id": "yR4ZoR3z1wyN"
   },
   "source": [
    "# **Differentiable quantum circuits on Pennylane**\n",
    "\n",
    "In the last lecture, we promised that:\n",
    "\n",
    "Unlike other quantum programming libraries, Pennylane is based on the following feature\n",
    "\n",
    "*   **Follow the gradient.** Built-in **automatic differentiation** of quantum circuits.\n",
    "\n",
    "\n",
    "For a quick recap of what automatic differentiation is, check it here: [link](https://pennylane.ai/qml/glossary/quantum_differentiable_programming/). This provides a very clear explanation (recommended!)\n",
    "\n",
    "\n",
    "<p align=\"center\">\n",
    "  <img src=\"https://drive.google.com/uc?export=view&id=1-Sw_i71sYKugzfRfqUNd9YmIGZ2IGxMT\" style=\"height: 500px;width: auto\"/>\n",
    "</p>\n",
    "\n",
    "\n",
    "In this second hands-on tutorial, we will show how to create a Parameterized Quantum Circuit (PQC) and to compute gradients of a cost function w.r.t. its parameters.\n",
    "This way, we can optimize the PQC by *minimizing a cost function with gradient-based methods* (examples below).\n",
    "\n",
    "**In other words, by computing gradients, we can make quantum algorithms trainable**.\n",
    "\n",
    "Derivatives of a PQC are computed thanks to an **interface**, which can be: autograd ([automatically differentiate native Python and Numpy code](https://github.com/HIPS/autograd)), TensorFlow, PyTorch, or JAX.\n",
    "\n",
    "> Interfaces: different Automatic Differentiation (AD) frameworks\n",
    "\n",
    "Example: `interface=\"autograd\"`\n",
    "\n",
    "In PennyLane, any quantum **device**, whether a classical simulator or a real quantum-hardware-device, can be trained.\n",
    "\n",
    "Example (basic simulator): `dev = qml.device(\"default.qubit\", wires=2)`\n"
   ]
  },
  {
   "cell_type": "markdown",
   "metadata": {
    "id": "RkAmV8eJLNS1"
   },
   "source": [
    "### Recall that:\n",
    "\n",
    "The fundamental element introduced in pennylane is the quantum node (`qnode`) which allows you to interface the quantum circuit with a device (either a real quantum device or a classical simulator, as in this case).\n",
    "\n",
    "A `qnode`  is applied as a decorator to a **quantum function** that defines the quantum circuit: the function becomes itself an object of the class `QNode`.\n",
    "\n",
    "What is a **quantum function**?\n",
    "\n",
    "Quantum functions are a **restricted subset** of Python functions.\n",
    "For a Python function to also be a valid quantum function, there are some\n",
    "important restrictions:\n",
    "\n",
    "* **Quantum functions must contain quantum operations, one operation per line,\n",
    "in the order in which they are to be applied.**\n",
    "\n",
    "* In addition, we must always specify the subsystem the operation applies to,\n",
    " by passing the ``wires`` argument; this may be a list or an integer, depending\n",
    "on how many wires the operation acts on.\n",
    "\n",
    "* **Quantum functions must return either a single or a tuple of measured observables**.\n",
    "As a result, the quantum function always returns a classical quantity\n"
   ]
  },
  {
   "cell_type": "markdown",
   "metadata": {
    "id": "YS-ZHP1TLNS1"
   },
   "source": [
    "### My first simple example of PQC"
   ]
  },
  {
   "cell_type": "code",
   "execution_count": 15,
   "metadata": {
    "id": "3Ki4yi0tYVnf",
    "ExecuteTime": {
     "end_time": "2024-04-03T10:58:24.270989Z",
     "start_time": "2024-04-03T10:58:24.267620Z"
    }
   },
   "outputs": [],
   "source": [
    "# create a device to execute the circuit on: a classical simulator with 2 qubits\n",
    "dev = qml.device(\"default.qubit\", wires=2)\n",
    "\n",
    "# computational basis measurements: ZZ\n",
    "obsZZ = qml.PauliZ(0) @ qml.PauliZ(1)\n",
    "\n",
    "@qml.qnode(dev, interface=\"autograd\")\n",
    "def circuit(params):\n",
    "    qml.Hadamard(wires=0)\n",
    "    qml.CNOT(wires=[0,1]) # control, target\n",
    "    qml.RX(params[0], wires=0) # parameterized gate\n",
    "    qml.RY(params[1], wires=1) # parameterized gate\n",
    "    return qml.expval(obsZZ)"
   ]
  },
  {
   "cell_type": "code",
   "execution_count": 16,
   "metadata": {
    "id": "TyK0KRl31t6Y",
    "outputId": "20634dbb-561d-458b-b982-bf6ac3f19a31",
    "ExecuteTime": {
     "end_time": "2024-04-03T10:58:24.326164Z",
     "start_time": "2024-04-03T10:58:24.272163Z"
    }
   },
   "outputs": [
    {
     "data": {
      "text/plain": "<Figure size 600x300 with 1 Axes>",
      "image/png": "[encoded data removed]"
     },
     "metadata": {},
     "output_type": "display_data"
    }
   ],
   "source": [
    "# set the random seed for reproducibility\n",
    "np.random.seed(42)\n",
    "\n",
    "# two random rotation angles\n",
    "params_values = np.random.random([2], requires_grad=True) # you will compute gradients wrt to these parameters\n",
    "\n",
    "fig, ax = qml.draw_mpl(circuit, decimals=2)(params_values)\n",
    "#fig.show()"
   ]
  },
  {
   "cell_type": "markdown",
   "metadata": {
    "id": "pm3WGusCDb1L"
   },
   "source": [
    "> The gradient of the function circuit, encapsulated within the QNode, can be evaluated by utilizing the same quantum device `dev`\n",
    ">that we used to evaluate the function itself.\n",
    "\n",
    "PennyLane incorporates both **analytic** differentiation, as well as **numerical** methods (such as the method of *finite differences*). Both of these are done automatically.\n",
    "\n",
    "We can differentiate by using the built-in `grad()` function.\n",
    "\n",
    "> NB: `grad()` is intended to be used with the Autograd interface only\n",
    ">\n",
    "> To see how to use other interfaces, e.g. PyTorch, check this link: [Gradients and training](https://docs.pennylane.ai/en/stable/introduction/interfaces.html).\n",
    "\n",
    "**This returns another function, representing the gradient (i.e., the vector of partial derivatives) of circuit.**\n",
    "\n",
    "The gradient can be evaluated in the same way as the original function:"
   ]
  },
  {
   "cell_type": "code",
   "execution_count": 17,
   "metadata": {
    "id": "Nc-7Ja5tahDt",
    "ExecuteTime": {
     "end_time": "2024-04-03T10:58:24.329454Z",
     "start_time": "2024-04-03T10:58:24.327177Z"
    }
   },
   "outputs": [],
   "source": [
    "dcircuit = qml.grad(circuit, argnum=0) # there is a single argument, which is params (a list of size 2)\n",
    "\n",
    "# NB:\n",
    "# if you passed two variables separately as in\n",
    "# circuit(param0, param1)\n",
    "# you would use argnum=0 and argnum=1 (respectively) for the two partial derivatives"
   ]
  },
  {
   "cell_type": "code",
   "execution_count": 18,
   "metadata": {
    "id": "VMXkO49FYWR8",
    "outputId": "ec321a3d-7814-46f9-9937-6cf37e78fa2e",
    "ExecuteTime": {
     "end_time": "2024-04-03T10:58:24.347519Z",
     "start_time": "2024-04-03T10:58:24.330372Z"
    }
   },
   "outputs": [
    {
     "name": "stdout",
     "output_type": "stream",
     "text": [
      "Parameters: [0.37454012 0.95071431]\n",
      "Expectation value: 0.5408175840363858\n",
      "Gradient: [-0.21259298 -0.75741276]\n"
     ]
    }
   ],
   "source": [
    "# evaluate at params = params_values\n",
    "print(\"Parameters:\", params_values)\n",
    "print(\"Expectation value:\", circuit(params_values))\n",
    "print(\"Gradient:\", dcircuit(params_values))"
   ]
  },
  {
   "cell_type": "markdown",
   "metadata": {
    "id": "98l_7g-RLNS3"
   },
   "source": [
    "**Remark**:\n",
    "Keyword arguments may also be used in your custom quantum function.\n",
    "\n",
    ">PennyLane does **not** differentiate QNodes with respect to keyword arguments, so they are useful for passing external data to your QNode."
   ]
  },
  {
   "cell_type": "markdown",
   "metadata": {
    "id": "AbkSKzcGLNS4"
   },
   "source": [
    "### A moment of reflection\n",
    "\n",
    "What does it mean to compute the gradient of `circuit`?\n",
    "\n",
    "It is an **abuse of notation**. We are computing the gradient of a **quantum function** named circuit. This function returns the expectation value of $$Z \\otimes Z$$ in the Parameterized Quantum Circuit above, let us call it\n",
    "\n",
    "$$\n",
    "| \\psi(\\theta_0, \\theta_1)\\rangle = e^{-i \\frac{\\theta_0}{2}X_0  } e^{-i \\frac{\\theta_1}{2}Y_1  } C_{0,1} H_0 |00\\rangle\n",
    "$$\n",
    "\n",
    "\n",
    "So, we are actually computing the **gradient of the cost function** (expectation value):\n",
    "\n",
    "$$\n",
    "\\mathrm{C}(\\theta_0, \\theta_1) = \\langle \\psi  (\\theta_0, \\theta_1) | Z_0 \\otimes Z_1 | \\psi (\\theta_0, \\theta_1) \\rangle\n",
    "$$\n",
    "\n",
    "> Pro tip: exercise to try at home. Compute analytically (pen and paper) this gradient. Do you see the imaginary part of an expectation value appearing?\n",
    "\n",
    "> We can rewrite $|00\\rangle \\equiv |0\\rangle^{\\otimes N}$, here with $N=2$ qubits"
   ]
  },
  {
   "cell_type": "markdown",
   "metadata": {
    "id": "0vAyJcfzLNS4"
   },
   "source": [
    "---\n",
    "\n",
    "## Different methods to compute gradients with Pennylane\n",
    "\n",
    "We just used `grad()`... But what method did we actually use to compute the gradient of $\\mathrm{C}(\\theta_0, \\theta_1)$?\n",
    "\n",
    ">Pennylane chooses the \"best\" option (analytical gradients, if possible). But it is extremely important to understand the different\n",
    ">\n",
    ">methods that we can use to differentiate a quantum circuit (or, more precisely, to compute the partial derivative of the cost function):\n",
    ">\n",
    ">in our case $\\mathrm{C}(\\theta_0, \\theta_1)$).\n",
    "\n",
    "In particular, you **should** understand very well:\n",
    "1. What methods can **only** be used in a classical simulation with the exact `statevetor` (wavefunction)\n",
    "\n",
    "2. What methods can be used also in a real experiment on a quantum device, with `shots`\n",
    "\n",
    "### 1. Simulation-based differentiation\n",
    "\n",
    "These methods are essentially the standard **backpropagation**, which is used everywhere in classical Machine Learning (e.g. for feed-forward Neural Networks like multilayer perceptrons).\n",
    "\n",
    "They are based on the chain rule, and compute gradients of $\\mathrm{C}(\\theta_0, \\theta_1)$ recursively starting from the final layer: they use [**reverse accumulation** AD](https://en.wikipedia.org/wiki/Automatic_differentiation).\n",
    "\n",
    "* \"backprop\": Use standard backpropagation\n",
    "\n",
    "* \"adjoint\": Use a form of backpropagation that takes advantage of the unitary or reversible nature of quantum computation. Lower memory usage and a similar runtime compared to backprop\n",
    "\n",
    "> In a **real device** (with e.g. $N \\sim 100$ qubits) we CANNOT compute the final quantum state (here, $| \\psi (\\theta_0, \\theta_1) \\rangle$) exactly. Hence, we do not have the exact cost function (here, $\\mathrm{C}(\\theta_0, \\theta_1)$).\n",
    ">\n",
    "> On the contrary for **fixed variational parameters** (here, $(\\theta_0, \\theta_1)$), we estimate it with a bunch of measurements, or **shots**, on the final state: see the last lecture.\n",
    ">\n",
    "> As a consequence, we CANNOT compute the partial derivates with backpropagation!\n",
    "\n",
    "### 2. Hardware-compatible differentiation\n",
    "\n",
    "These methods support **both quantum hardware and simulators**. They are examples of forward accumulation AD.\n",
    "\n",
    "> However, when using a simulator, notice that the number of circuit executions required to compute the gradients with these methods scales **linearly with the number of trainable circuit parameters**! Backprop is often more efficient.\n",
    "\n",
    "Most important methods (see the same link above for a complete list [Gradients and training](https://docs.pennylane.ai/en/stable/introduction/interfaces.html)):\n",
    "\n",
    "* \"finite-diff\": Use numerical finite-differences for all quantum operation arguments. Numerical approximation, risk of high numerical errors\n",
    "\n",
    "* \"parameter-shift\": Use the analytic **parameter-shift rule** for all supported quantum operation arguments, with finite-difference as a fallback."
   ]
  },
  {
   "cell_type": "markdown",
   "metadata": {
    "id": "SeQ9kqo1cUwB"
   },
   "source": [
    "## Parameter shift rule (PSR)\n",
    "\n",
    "Let us start with the intuition behind PSR. Consider $f(x) = \\sin(x)$.\n",
    "\n",
    "- **Finite differences** (second order in $\\epsilon$):\n",
    "$$\n",
    "\\frac{d(\\sin(x))}{dx} \\approx \\frac{\\sin(x + \\epsilon) - \\sin(x - \\epsilon)}{2\\epsilon}\n",
    "$$\n",
    "- check if here is epsilon squared or 2 epsilon\n",
    "\n",
    "this upper formula can lead to exploding gradients, cause we will have very small number divided by very small, so multiplyes by large number. recipe for disaster!\n",
    "\n",
    "- **Exact** (for any real $s$):\n",
    "$$\n",
    "\\frac{d(\\sin(x))}{dx} = \\cos(x) = \\frac{\\sin(x + s) - \\sin(x - s)}{2\\sin(s)}\n",
    "$$\n",
    "\n",
    "> Note that $\\epsilon$ is small. Numerical errors. If you have noise, it fails completely.\n",
    ">\n",
    "> Note that $s$ is finite! E.g. choose $s=\\frac{\\pi}{2}$. Much better resilience to numerical errors and noise.\n",
    "\n",
    "\n",
    "This  approach can be extended to quantum gates and Parameterized Quantum Circuits.\n",
    "\n",
    "Indeed, the **PSR is ideally suited to hardware devices**, as it answers to the question:\n",
    "\n",
    "> how do I compute gradients of a PQC implemented on a real quantum device?\n",
    "\n",
    "### Simple PSR\n",
    "\n",
    "Generalized versions exist (advanced topic, you can Google it if interested).\n",
    "\n",
    "\n",
    "Here,  we focus on a variational quantum circuit $U(\\boldsymbol{θ}) = (\\theta_1, \\theta_2, \\dots, \\theta_M)$ acting on $N$ qubits, which is composed of non-parametrical gates (e.g. CNOTs, Hadamard) and $M$\n",
    "parameterized Pauli rotations (see e.g. $| \\psi(\\theta_0, \\theta_1)\\rangle$ above):\n",
    "$$\n",
    " R_\\alpha(\\theta_j) = e^{-i \\frac{\\theta_j}{2}\\sigma_\\alpha} = \\mathrm{I}\\cos{\\frac{\\theta_j}{2}} - i \\sin{\\frac{\\theta_j}{2}} \\sigma_\\alpha \\qquad \\text{for} \\ \\ \\alpha=x,y,z\n",
    "$$\n",
    "(as usual $\\sigma_x \\equiv X$ etc. is a Pauli matrix acting on some qubit - not specified here).\n",
    "\n",
    "\n",
    "Let us consider some observable $B$, e.g. $Z_0 \\otimes Z_1$ above (it can be any Hermitian operator!).\n",
    "\n",
    "The cost function is the expectation value:\n",
    "\n",
    "$\\langle B (\\boldsymbol{θ}) \\rangle = \\langle 0 |^{\\otimes N} U^{†}(\\boldsymbol{θ})\\, B \\ U(\\boldsymbol{θ}) |0\\rangle^{\\otimes N}$\n",
    "\n",
    "Its partial derivative with respect to the parameter $\\theta_j$ is given by\n",
    "$$\n",
    "\\frac{\\partial}{\\partial \\theta_j} \\langle B (\\boldsymbol{θ}) \\rangle =\n",
    "\\frac{1}{2} \\left[ \\langle {B} \\left( \\boldsymbol{θ} + \\frac{\\pi}{2} \\hat{\\boldsymbol{e}}_j \\right) \\rangle  - \\langle {B} \\left( \\boldsymbol{θ} - \\frac{\\pi}{2} \\hat{\\boldsymbol{e}}_j \\right) \\rangle  \\right].\n",
    "$$\n",
    "with $\\hat{\\boldsymbol{e}}_j$ being the versor along the $j$-th direction.\n",
    "\n",
    "Thus, the gradient of the expectation value can be calculated by evaluating the **same variational quantum circuit**, but with **shifted parameter values** (hence the name, parameter-shift rule!)\n",
    "\n",
    "For **each parameter** it is therefore necessary to estimate two expectation values using $K$ samples (or shots) taken from the quantum device (or simulator). The total number of calls to the quantum hardware for the case above, with two parameters, and 100 samples, would be 400."
   ]
  },
  {
   "cell_type": "code",
   "execution_count": 19,
   "metadata": {
    "id": "z5LsNrbSLNS5",
    "outputId": "6dca626b-8f70-4258-e99f-e8dbbfbb99d0",
    "ExecuteTime": {
     "end_time": "2024-04-03T10:58:24.368739Z",
     "start_time": "2024-04-03T10:58:24.348696Z"
    }
   },
   "outputs": [
    {
     "name": "stdout",
     "output_type": "stream",
     "text": [
      "Parameters: [0.18343479 0.779691  ]\n",
      "Expectation value: 0.6400\n",
      "Gradient: [-0.25 -0.62]\n"
     ]
    }
   ],
   "source": [
    "np.random.seed(42)\n",
    "\n",
    "# computational basis measurements: ZZ\n",
    "obsZZ = qml.PauliZ(0) @ qml.PauliZ(1)\n",
    "\n",
    "# create a device to execute the circuit on: a classical simulator with 2 qubits and shots simulation\n",
    "dev = qml.device(\"default.qubit\", wires=2, shots=100)\n",
    "# shots: number of samples (measurements)\n",
    "\n",
    "@qml.qnode(dev, interface=\"autograd\", diff_method=\"parameter-shift\")\n",
    "def circuit(params):\n",
    "    qml.Hadamard(wires=0)\n",
    "    qml.CNOT(wires=[0,1]) # control, target\n",
    "    qml.RX(params[0], wires=0) # parameterized gate\n",
    "    qml.RY(params[1], wires=1) # parameterized gate\n",
    "    return qml.expval(obsZZ)\n",
    "\n",
    "\n",
    "params_values = np.random.random([2], requires_grad=True)\n",
    "\n",
    "# evaluate at params = params_values\n",
    "print(\"Parameters:\", params_values)\n",
    "print(f\"Expectation value: {circuit(params_values):.4f}\")\n",
    "\n",
    "# gradient with PSR\n",
    "dcircuit = qml.grad(circuit, argnum=0)\n",
    "print(f\"Gradient: {dcircuit(params_values)}\")"
   ]
  },
  {
   "cell_type": "markdown",
   "metadata": {
    "id": "IUu9U6K8LNS5"
   },
   "source": [
    "\n",
    "---\n",
    "## Exercise 1\n",
    "\n",
    "Redo the exact same thing with finite differences. Copy and paste (estimated time: 30 seconds).\n",
    "\n",
    "Compare the exact case above, with PSR and with finite differences.\n",
    "Which one is more accurate?\n",
    "Why?\n",
    "\n",
    "What happens with, say, $K=1000$ shots?\n"
   ]
  },
  {
   "cell_type": "code",
   "execution_count": 20,
   "metadata": {
    "id": "vxlI855ALNS6",
    "ExecuteTime": {
     "end_time": "2024-04-03T10:58:24.389266Z",
     "start_time": "2024-04-03T10:58:24.370913Z"
    }
   },
   "outputs": [
    {
     "name": "stdout",
     "output_type": "stream",
     "text": [
      "Parameters: [0.18343479 0.779691  ]\n",
      "Expectation value: 0.6700\n",
      "Gradient: [-340000. -360000.]\n"
     ]
    }
   ],
   "source": [
    "### copy and paste the cell above, change diff_method\n",
    "np.random.seed(42)\n",
    "\n",
    "# computational basis measurements: ZZ\n",
    "obsZZ = qml.PauliZ(0) @ qml.PauliZ(1)\n",
    "\n",
    "# create a device to execute the circuit on: a classical simulator with 2 qubits and shots simulation\n",
    "dev = qml.device(\"default.qubit\", wires=2, shots=1000)\n",
    "# shots: number of samples (measurements)\n",
    "\n",
    "@qml.qnode(dev, interface=\"autograd\", diff_method=\"finite-diff\")\n",
    "def circuit(params):\n",
    "    qml.Hadamard(wires=0)\n",
    "    qml.CNOT(wires=[0,1]) # control, target\n",
    "    qml.RX(params[0], wires=0) # parameterized gate\n",
    "    qml.RY(params[1], wires=1) # parameterized gate\n",
    "    return qml.expval(obsZZ)\n",
    "\n",
    "\n",
    "params_values = np.random.random([2], requires_grad=True)\n",
    "\n",
    "# evaluate at params = params_values\n",
    "print(\"Parameters:\", params_values)\n",
    "print(f\"Expectation value: {circuit(params_values):.4f}\")\n",
    "\n",
    "# gradient with PSR\n",
    "dcircuit = qml.grad(circuit, argnum=0)\n",
    "print(f\"Gradient: {dcircuit(params_values)}\")\n"
   ]
  },
  {
   "cell_type": "markdown",
   "metadata": {
    "id": "xSc5W3UPLNS6"
   },
   "source": [
    "---\n",
    "\n",
    "## Exercise 2\n",
    "\n",
    "One of the previous methods failed. What would you do to make it work at least reasonably?\n",
    "\n",
    "Check the documentation here: [link](https://docs.pennylane.ai/en/stable/code/api/pennylane.gradients.finite_diff.html)\n",
    "\n",
    "What parameters would you change? Recall that the statistical error on the sample mean scales as\n",
    "\n",
    "$$\\sim\\frac{1}{\\sqrt{K}}$$\n",
    "\n",
    "Hint:  You need MANY shots. Try `int(1e6) = 1000000` (ridicolous)...\n",
    "\n",
    "Hint: you just need to modify one line, for instance as\n",
    "\n",
    "`@qml.qnode(dev, interface=\"autograd\", diff_method=\"finite-diff\", h=..., approx_order=..., strategy=...)`\n",
    "\n",
    "defaults are:\n",
    "\n",
    "`finite_diff(tape, argnum=None, h=1e-07, approx_order=1, n=1, strategy='forward', f0=None, validate_params=True)`\n",
    "\n"
   ]
  },
  {
   "cell_type": "code",
   "execution_count": 21,
   "metadata": {
    "id": "h9S8Kc37LNS6",
    "outputId": "2c8a6b39-5dea-46fe-c36a-0ac46a2db6be",
    "ExecuteTime": {
     "end_time": "2024-04-03T10:58:24.430703Z",
     "start_time": "2024-04-03T10:58:24.409410Z"
    }
   },
   "outputs": [
    {
     "name": "stdout",
     "output_type": "stream",
     "text": [
      "Parameters: [0.18343479 0.779691  ]\n",
      "Expectation value: 0.6700\n",
      "Gradient: [340. 360.]\n"
     ]
    }
   ],
   "source": [
    "### copy and paste the cell above, change diff_method\n",
    "\n",
    "np.random.seed(42)\n",
    "\n",
    "# computational basis measurements: ZZ\n",
    "obsZZ = qml.PauliZ(0) @ qml.PauliZ(1)\n",
    "\n",
    "# create a device to execute the circuit on: a classical simulator with 2 qubits and shots simulation\n",
    "dev = qml.device(\"default.qubit\", wires=2, shots=1000)\n",
    "# shots: number of samples (measurements)\n",
    "\n",
    "@qml.qnode(dev, interface=\"autograd\", diff_method=\"finite-diff\", h= 1e-4, approx_order=1, strategy='backward')\n",
    "def circuit(params):\n",
    "    qml.Hadamard(wires=0)\n",
    "    qml.CNOT(wires=[0,1]) # control, target\n",
    "    qml.RX(params[0], wires=0) # parameterized gate\n",
    "    qml.RY(params[1], wires=1) # parameterized gate\n",
    "    return qml.expval(obsZZ)\n",
    "\n",
    "\n",
    "params_values = np.random.random([2], requires_grad=True)\n",
    "\n",
    "# evaluate at params = params_values\n",
    "print(\"Parameters:\", params_values)\n",
    "print(f\"Expectation value: {circuit(params_values):.4f}\")\n",
    "\n",
    "# gradient with PSR\n",
    "dcircuit = qml.grad(circuit, argnum=0)\n",
    "print(f\"Gradient: {dcircuit(params_values)}\")"
   ]
  },
  {
   "cell_type": "code",
   "outputs": [],
   "source": [
    "np.logspace(10e-10, 10e-2, 100);"
   ],
   "metadata": {
    "collapsed": false,
    "ExecuteTime": {
     "end_time": "2024-04-03T10:58:24.487328Z",
     "start_time": "2024-04-03T10:58:24.484969Z"
    }
   },
   "execution_count": 22
  },
  {
   "cell_type": "code",
   "outputs": [],
   "source": [
    "### facciamo una gridsearch\n",
    "\n",
    "results = []\n",
    "for i in np.logspace(10e-12, 10e-2, 10000):\n",
    "    for j in [i for i in [1]]:   \n",
    "        np.random.seed(42)\n",
    "        \n",
    "        # computational basis measurements: ZZ\n",
    "        obsZZ = qml.PauliZ(0) @ qml.PauliZ(1)\n",
    "        \n",
    "        # create a device to execute the circuit on: a classical simulator with 2 qubits and shots simulation\n",
    "        dev = qml.device(\"default.qubit\", wires=2, shots=10000)\n",
    "        # shots: number of samples (measurements)\n",
    "        \n",
    "        #@qml.qnode(dev, interface=\"autograd\", diff_method=\"finite-diff\", h= 1e-4, approx_order=1, strategy='backward')\n",
    "        @qml.qnode(dev, interface=\"autograd\", diff_method=\"finite-diff\", h= i, approx_order=j, strategy='backward')\n",
    "        def circuit(params):\n",
    "            qml.Hadamard(wires=0)\n",
    "            qml.CNOT(wires=[0,1]) # control, target\n",
    "            qml.RX(params[0], wires=0) # parameterized gate\n",
    "            qml.RY(params[1], wires=1) # parameterized gate\n",
    "            return qml.expval(obsZZ)\n",
    "        \n",
    "        \n",
    "        params_values = np.random.random([2], requires_grad=True)\n",
    "        \n",
    "        # evaluate at params = params_values\n",
    "        #print(\"Parameters:\", params_values)\n",
    "        #print(f\"Expectation value: {circuit(params_values):.4f}\")\n",
    "        \n",
    "        # gradient with PSR\n",
    "        dcircuit = qml.grad(circuit, argnum=0)\n",
    "        #print(f\"Gradient: {dcircuit(params_values)}\")\n",
    "        results.append(dcircuit(params_values)[1])\n",
    "    "
   ],
   "metadata": {
    "collapsed": false,
    "ExecuteTime": {
     "end_time": "2024-04-03T10:59:02.747995Z",
     "start_time": "2024-04-03T10:58:24.507030Z"
    }
   },
   "execution_count": 23
  },
  {
   "cell_type": "code",
   "outputs": [
    {
     "data": {
      "text/plain": "<Figure size 640x480 with 1 Axes>",
      "image/png": "[encoded data removed]"
     },
     "metadata": {},
     "output_type": "display_data"
    }
   ],
   "source": [
    "plt.scatter(list(np.logspace(10e-12, 10e-2, 10000)), results)\n",
    "plt.xscale(\"log\")"
   ],
   "metadata": {
    "collapsed": false,
    "ExecuteTime": {
     "end_time": "2024-04-03T10:59:03.084535Z",
     "start_time": "2024-04-03T10:59:02.748979Z"
    }
   },
   "execution_count": 24
  },
  {
   "cell_type": "code",
   "outputs": [
    {
     "data": {
      "text/plain": "-0.13996063495841843"
     },
     "execution_count": 25,
     "metadata": {},
     "output_type": "execute_result"
    }
   ],
   "source": [
    "max(results)"
   ],
   "metadata": {
    "collapsed": false,
    "ExecuteTime": {
     "end_time": "2024-04-03T10:59:03.089665Z",
     "start_time": "2024-04-03T10:59:03.086597Z"
    }
   },
   "execution_count": 25
  },
  {
   "cell_type": "markdown",
   "source": [],
   "metadata": {
    "collapsed": false
   }
  },
  {
   "cell_type": "code",
   "outputs": [
    {
     "data": {
      "text/plain": "tensor(1., requires_grad=True)"
     },
     "execution_count": 26,
     "metadata": {},
     "output_type": "execute_result"
    }
   ],
   "source": [
    "best = [i for (i, j) in zip(range(len(results)), results) if j > -0.6192][0]\n",
    "list(np.logspace(10e-12, 10e-2, 100))[best]"
   ],
   "metadata": {
    "collapsed": false,
    "ExecuteTime": {
     "end_time": "2024-04-03T10:59:03.096410Z",
     "start_time": "2024-04-03T10:59:03.091091Z"
    }
   },
   "execution_count": 26
  },
  {
   "cell_type": "code",
   "outputs": [
    {
     "name": "stderr",
     "output_type": "stream",
     "text": [
      "/home/ronin/miniforge3/envs/quantum/lib/python3.12/site-packages/pennylane/gradients/finite_difference.py:153: LinAlgWarning: Ill-conditioned matrix (rcond=3.9516e-17): result may not be accurate.\n",
      "  coeffs = linalg_solve(A, b)\n",
      "/home/ronin/miniforge3/envs/quantum/lib/python3.12/site-packages/pennylane/gradients/finite_difference.py:153: LinAlgWarning: Ill-conditioned matrix (rcond=5.92616e-19): result may not be accurate.\n",
      "  coeffs = linalg_solve(A, b)\n",
      "/home/ronin/miniforge3/envs/quantum/lib/python3.12/site-packages/pennylane/gradients/finite_difference.py:153: LinAlgWarning: Ill-conditioned matrix (rcond=8.24003e-21): result may not be accurate.\n",
      "  coeffs = linalg_solve(A, b)\n",
      "/home/ronin/miniforge3/envs/quantum/lib/python3.12/site-packages/pennylane/gradients/finite_difference.py:153: LinAlgWarning: Ill-conditioned matrix (rcond=1.06741e-22): result may not be accurate.\n",
      "  coeffs = linalg_solve(A, b)\n",
      "/home/ronin/miniforge3/envs/quantum/lib/python3.12/site-packages/pennylane/gradients/finite_difference.py:153: LinAlgWarning: Ill-conditioned matrix (rcond=1.2938e-24): result may not be accurate.\n",
      "  coeffs = linalg_solve(A, b)\n",
      "/home/ronin/miniforge3/envs/quantum/lib/python3.12/site-packages/pennylane/gradients/finite_difference.py:153: LinAlgWarning: Ill-conditioned matrix (rcond=1.47308e-26): result may not be accurate.\n",
      "  coeffs = linalg_solve(A, b)\n",
      "/home/ronin/miniforge3/envs/quantum/lib/python3.12/site-packages/pennylane/gradients/finite_difference.py:153: LinAlgWarning: Ill-conditioned matrix (rcond=1.58104e-28): result may not be accurate.\n",
      "  coeffs = linalg_solve(A, b)\n",
      "/home/ronin/miniforge3/envs/quantum/lib/python3.12/site-packages/pennylane/gradients/finite_difference.py:153: LinAlgWarning: Ill-conditioned matrix (rcond=1.60468e-30): result may not be accurate.\n",
      "  coeffs = linalg_solve(A, b)\n",
      "/home/ronin/miniforge3/envs/quantum/lib/python3.12/site-packages/pennylane/gradients/finite_difference.py:153: LinAlgWarning: Ill-conditioned matrix (rcond=1.54679e-32): result may not be accurate.\n",
      "  coeffs = linalg_solve(A, b)\n",
      "/home/ronin/miniforge3/envs/quantum/lib/python3.12/site-packages/pennylane/gradients/finite_difference.py:153: LinAlgWarning: Ill-conditioned matrix (rcond=1.41502e-34): result may not be accurate.\n",
      "  coeffs = linalg_solve(A, b)\n",
      "/home/ronin/miniforge3/envs/quantum/lib/python3.12/site-packages/pennylane/gradients/finite_difference.py:153: LinAlgWarning: Ill-conditioned matrix (rcond=1.22768e-36): result may not be accurate.\n",
      "  coeffs = linalg_solve(A, b)\n",
      "/home/ronin/miniforge3/envs/quantum/lib/python3.12/site-packages/pennylane/gradients/finite_difference.py:153: LinAlgWarning: Ill-conditioned matrix (rcond=1.08347e-38): result may not be accurate.\n",
      "  coeffs = linalg_solve(A, b)\n",
      "/home/ronin/miniforge3/envs/quantum/lib/python3.12/site-packages/pennylane/gradients/finite_difference.py:153: LinAlgWarning: Ill-conditioned matrix (rcond=1.75522e-40): result may not be accurate.\n",
      "  coeffs = linalg_solve(A, b)\n",
      "/home/ronin/miniforge3/envs/quantum/lib/python3.12/site-packages/pennylane/gradients/finite_difference.py:153: LinAlgWarning: Ill-conditioned matrix (rcond=9.40049e-43): result may not be accurate.\n",
      "  coeffs = linalg_solve(A, b)\n",
      "/home/ronin/miniforge3/envs/quantum/lib/python3.12/site-packages/pennylane/gradients/finite_difference.py:153: LinAlgWarning: Ill-conditioned matrix (rcond=3.34459e-44): result may not be accurate.\n",
      "  coeffs = linalg_solve(A, b)\n",
      "/home/ronin/miniforge3/envs/quantum/lib/python3.12/site-packages/pennylane/gradients/finite_difference.py:153: LinAlgWarning: Ill-conditioned matrix (rcond=4.87712e-46): result may not be accurate.\n",
      "  coeffs = linalg_solve(A, b)\n",
      "/home/ronin/miniforge3/envs/quantum/lib/python3.12/site-packages/pennylane/gradients/finite_difference.py:153: LinAlgWarning: Ill-conditioned matrix (rcond=4.49302e-48): result may not be accurate.\n",
      "  coeffs = linalg_solve(A, b)\n",
      "/home/ronin/miniforge3/envs/quantum/lib/python3.12/site-packages/pennylane/gradients/finite_difference.py:153: LinAlgWarning: Ill-conditioned matrix (rcond=1.9659e-50): result may not be accurate.\n",
      "  coeffs = linalg_solve(A, b)\n",
      "/home/ronin/miniforge3/envs/quantum/lib/python3.12/site-packages/pennylane/gradients/finite_difference.py:153: LinAlgWarning: Ill-conditioned matrix (rcond=4.71494e-52): result may not be accurate.\n",
      "  coeffs = linalg_solve(A, b)\n",
      "/home/ronin/miniforge3/envs/quantum/lib/python3.12/site-packages/pennylane/gradients/finite_difference.py:153: LinAlgWarning: Ill-conditioned matrix (rcond=1.2425e-53): result may not be accurate.\n",
      "  coeffs = linalg_solve(A, b)\n",
      "/home/ronin/miniforge3/envs/quantum/lib/python3.12/site-packages/pennylane/gradients/finite_difference.py:153: LinAlgWarning: Ill-conditioned matrix (rcond=7.81132e-57): result may not be accurate.\n",
      "  coeffs = linalg_solve(A, b)\n",
      "/home/ronin/miniforge3/envs/quantum/lib/python3.12/site-packages/pennylane/gradients/finite_difference.py:153: LinAlgWarning: Ill-conditioned matrix (rcond=7.69382e-58): result may not be accurate.\n",
      "  coeffs = linalg_solve(A, b)\n",
      "/home/ronin/miniforge3/envs/quantum/lib/python3.12/site-packages/pennylane/gradients/finite_difference.py:153: LinAlgWarning: Ill-conditioned matrix (rcond=4.12849e-60): result may not be accurate.\n",
      "  coeffs = linalg_solve(A, b)\n",
      "/home/ronin/miniforge3/envs/quantum/lib/python3.12/site-packages/pennylane/gradients/finite_difference.py:153: LinAlgWarning: Ill-conditioned matrix (rcond=2.53588e-62): result may not be accurate.\n",
      "  coeffs = linalg_solve(A, b)\n",
      "/home/ronin/miniforge3/envs/quantum/lib/python3.12/site-packages/pennylane/gradients/finite_difference.py:153: LinAlgWarning: Ill-conditioned matrix (rcond=1.75676e-63): result may not be accurate.\n",
      "  coeffs = linalg_solve(A, b)\n",
      "/home/ronin/miniforge3/envs/quantum/lib/python3.12/site-packages/pennylane/gradients/finite_difference.py:153: LinAlgWarning: Ill-conditioned matrix (rcond=9.54138e-66): result may not be accurate.\n",
      "  coeffs = linalg_solve(A, b)\n",
      "/home/ronin/miniforge3/envs/quantum/lib/python3.12/site-packages/pennylane/gradients/finite_difference.py:153: LinAlgWarning: Ill-conditioned matrix (rcond=1.77588e-67): result may not be accurate.\n",
      "  coeffs = linalg_solve(A, b)\n",
      "/home/ronin/miniforge3/envs/quantum/lib/python3.12/site-packages/pennylane/gradients/finite_difference.py:153: LinAlgWarning: Ill-conditioned matrix (rcond=1.59123e-69): result may not be accurate.\n",
      "  coeffs = linalg_solve(A, b)\n"
     ]
    }
   ],
   "source": [
    "## facciamo una gridsearch\n",
    "\n",
    "results2 = []\n",
    "for i in [0.0933493]:\n",
    "    for j in [i for i in range(1, 40)]:   \n",
    "        np.random.seed(42)\n",
    "        \n",
    "        # computational basis measurements: ZZ\n",
    "        obsZZ = qml.PauliZ(0) @ qml.PauliZ(1)\n",
    "        \n",
    "        # create a device to execute the circuit on: a classical simulator with 2 qubits and shots simulation\n",
    "        dev = qml.device(\"default.qubit\", wires=2, shots=10000)\n",
    "        # shots: number of samples (measurements)\n",
    "        \n",
    "        #@qml.qnode(dev, interface=\"autograd\", diff_method=\"finite-diff\", h= 1e-4, approx_order=1, strategy='backward')\n",
    "        @qml.qnode(dev, interface=\"autograd\", diff_method=\"finite-diff\", h= i, approx_order=j, strategy='backward')\n",
    "        def circuit(params):\n",
    "            qml.Hadamard(wires=0)\n",
    "            qml.CNOT(wires=[0,1]) # control, target\n",
    "            qml.RX(params[0], wires=0) # parameterized gate\n",
    "            qml.RY(params[1], wires=1) # parameterized gate\n",
    "            return qml.expval(obsZZ)\n",
    "        \n",
    "        \n",
    "        params_values = np.random.random([2], requires_grad=True)\n",
    "        \n",
    "        # evaluate at params = params_values\n",
    "        #print(\"Parameters:\", params_values)\n",
    "        #print(f\"Expectation value: {circuit(params_values):.4f}\")\n",
    "        \n",
    "        # gradient with PSR\n",
    "        dcircuit = qml.grad(circuit, argnum=0)\n",
    "        #print(f\"Gradient: {dcircuit(params_values)}\")\n",
    "        results2.append(dcircuit(params_values)[1])\n",
    "    "
   ],
   "metadata": {
    "collapsed": false,
    "ExecuteTime": {
     "end_time": "2024-04-03T10:59:04.339422Z",
     "start_time": "2024-04-03T10:59:03.097601Z"
    }
   },
   "execution_count": 27
  },
  {
   "cell_type": "code",
   "outputs": [
    {
     "data": {
      "text/plain": "<Figure size 640x480 with 1 Axes>",
      "image/png": "[encoded data removed]"
     },
     "metadata": {},
     "output_type": "display_data"
    }
   ],
   "source": [
    "plt.scatter([ i+1 for i in range(len(results2))], results2)\n",
    "plt.yscale(\"log\")"
   ],
   "metadata": {
    "collapsed": false,
    "ExecuteTime": {
     "end_time": "2024-04-03T10:59:04.526006Z",
     "start_time": "2024-04-03T10:59:04.340674Z"
    }
   },
   "execution_count": 28
  },
  {
   "cell_type": "markdown",
   "metadata": {
    "id": "alhVZNP6hrUT"
   },
   "source": [
    "---\n",
    "\n",
    "## Optimization of a Parameterized Quantum Circuit\n",
    "\n",
    "We learnt how to differentiate PQCs to be able to train variational quantum algorithms.\n",
    "\n",
    "Now, let us use PennyLane’s built-in optimizers to actually optimize the parameters of the circuit.\n",
    "\n",
    "In our case, the observable is  $Z_0 \\otimes Z_1$.\n",
    "We optimize the variational parameters $(\\theta_0, \\theta_1)$ so as to minimize the cost function\n",
    "$$\n",
    "\\mathrm{C}(\\theta_0, \\theta_1) = \\langle \\psi  (\\theta_0, \\theta_1) | Z_0 \\otimes Z_1 | \\psi (\\theta_0, \\theta_1) \\rangle\n",
    "$$"
   ]
  },
  {
   "cell_type": "code",
   "execution_count": 29,
   "metadata": {
    "id": "3Nc_iqoxrFTr",
    "ExecuteTime": {
     "end_time": "2024-04-03T10:59:04.529585Z",
     "start_time": "2024-04-03T10:59:04.526636Z"
    }
   },
   "outputs": [],
   "source": [
    "np.random.seed(42)\n",
    "dev = qml.device(\"default.qubit\", wires=2) # exact simulation\n",
    "\n",
    "# computational basis measurements: ZZ\n",
    "obsZZ = qml.PauliZ(0) @ qml.PauliZ(1)\n",
    "\n",
    "@qml.qnode(dev, interface=\"autograd\")\n",
    "def circuit_new(params):\n",
    "    qml.Hadamard(wires=0)\n",
    "    qml.CNOT(wires=[0,1]) # control, target\n",
    "    qml.RX(params[0], wires=0) # parameterized gate\n",
    "    qml.RY(params[1], wires=1) # parameterized gate\n",
    "    return qml.expval(obsZZ)\n",
    "\n",
    "# set the initial parameter values for the optimization\n",
    "params = np.random.random([2], requires_grad=True)"
   ]
  },
  {
   "cell_type": "markdown",
   "metadata": {
    "id": "1rWBwCKUX08s"
   },
   "source": [
    "If using the default NumPy/Autograd interface, PennyLane provides a collection of optimizers based on variants of *gradient descent*.\n",
    "If you use PyTorch, TensorFlow, or JAX: refer to the documentation of these libraries or your experience with them.\n",
    "\n",
    "> To check the list of optimizers with NumPy/Autograd interface:\n",
    ">\n",
    "> visit again the page [Gradients and training](https://docs.pennylane.ai/en/stable/introduction/interfaces.html).\n",
    ">\n",
    "> Some optimizers (like ADAM) should be reset() after use (to cancel the log of the execution). See documentation, e.g.: [ADAM](https://docs.pennylane.ai/en/stable/code/api/pennylane.AdamOptimizer.html#pennylane.AdamOptimizer.reset)\n",
    "\n",
    "\n",
    "These optimizers accept as input a **cost function** and a set of **initial parameters**. They utilize PennyLane’s automatic differentiation to perform gradient descent."
   ]
  },
  {
   "cell_type": "code",
   "execution_count": 30,
   "metadata": {
    "id": "MF6H5piOh1JS",
    "ExecuteTime": {
     "end_time": "2024-04-03T10:59:04.541268Z",
     "start_time": "2024-04-03T10:59:04.530402Z"
    }
   },
   "outputs": [],
   "source": [
    "# set the optimizer: vanilla gradient descent\n",
    "opt = qml.GradientDescentOptimizer(stepsize=0.4)\n",
    "\n",
    "def cost_function(params):\n",
    "  return circuit_new(params)"
   ]
  },
  {
   "cell_type": "code",
   "execution_count": 31,
   "metadata": {
    "id": "axoVh7zaeB4L",
    "outputId": "f82495a4-0dc5-47af-b3e8-1fe4d955c559",
    "ExecuteTime": {
     "end_time": "2024-04-03T10:59:04.716895Z",
     "start_time": "2024-04-03T10:59:04.541827Z"
    }
   },
   "outputs": [
    {
     "name": "stdout",
     "output_type": "stream",
     "text": [
      "Cost after step     5: -0.7644092\n",
      "Cost after step    10: -0.9980907\n",
      "Cost after step    15: -0.9999884\n",
      "Cost after step    20: -0.9999999\n",
      "Cost after step    25: -1.0000000\n",
      "Cost after step    30: -1.0000000\n",
      "Cost after step    35: -1.0000000\n",
      "Cost after step    40: -1.0000000\n",
      "Cost after step    45: -1.0000000\n",
      "Cost after step    50: -1.0000000\n",
      "Cost after step    55: -1.0000000\n",
      "Cost after step    60: -1.0000000\n",
      "Cost after step    65: -1.0000000\n",
      "Cost after step    70: -1.0000000\n",
      "Cost after step    75: -1.0000000\n",
      "Cost after step    80: -1.0000000\n",
      "Cost after step    85: -1.0000000\n",
      "Cost after step    90: -1.0000000\n",
      "Cost after step    95: -1.0000000\n",
      "Cost after step   100: -1.0000000\n",
      "Optimized rotation angles: [2.31396359e-22 3.14159265e+00]\n"
     ]
    }
   ],
   "source": [
    "# set the number of steps\n",
    "steps = 100\n",
    "\n",
    "for i in range(steps):\n",
    "  # update the circuit parameters\n",
    "  params = opt.step(cost_function, params)\n",
    "\n",
    "  if (i + 1) % 5 == 0: # every 5 steps\n",
    "      print(\"Cost after step {:5d}: {: .7f}\".format(i + 1, cost_function(params)))\n",
    "\n",
    "print(\"Optimized rotation angles: {}\".format(params))"
   ]
  },
  {
   "cell_type": "code",
   "outputs": [
    {
     "data": {
      "text/plain": "(<Figure size 600x300 with 1 Axes>, <Axes: >)"
     },
     "execution_count": 32,
     "metadata": {},
     "output_type": "execute_result"
    },
    {
     "data": {
      "text/plain": "<Figure size 600x300 with 1 Axes>",
      "image/png": "[encoded data removed]"
     },
     "metadata": {},
     "output_type": "display_data"
    }
   ],
   "source": [
    "qml.draw_mpl(circuit_new, decimals=2)(params)"
   ],
   "metadata": {
    "collapsed": false,
    "ExecuteTime": {
     "end_time": "2024-04-03T10:59:04.756322Z",
     "start_time": "2024-04-03T10:59:04.718107Z"
    }
   },
   "execution_count": 32
  },
  {
   "cell_type": "markdown",
   "metadata": {
    "id": "wyAFmrYYYCUE"
   },
   "source": [
    "## Exercise 3\n",
    "\n",
    "What is the spectrum of $Z_0 \\otimes Z_1$? What is the lowest eigenvalue and does it correspond to the previous result?\n",
    "What is the dimension of the corresponding eigenspace? What is an obvious basis for it?\n",
    "\n",
    "> (All these questions are trivial, if you are lost, feel free to raise your hand)\n",
    "\n",
    "Compute analitically the quantum state obtained with the optimal PQC. The state before the two qubit rotations is (see last lecture) the Bell state:\n",
    "* Step 1)\n",
    "Hint:\n",
    "$$\n",
    "\\vert \\phi \\rangle = \\frac{\\vert00\\rangle+\\vert11\\rangle}{\\sqrt{2}}\n",
    "$$\n",
    "* Step 2)\n",
    "Now apply the optimal rotations and check that the state obtained is in the ground state eigenspace."
   ]
  },
  {
   "cell_type": "markdown",
   "metadata": {
    "id": "s4VNrTKLLNS8"
   },
   "source": [
    "The final state is: ... [your answer written in LaTeX]"
   ]
  },
  {
   "cell_type": "markdown",
   "metadata": {
    "id": "fpS8Lzo6LNS8"
   },
   "source": [
    "## Exercise 4\n",
    "\n",
    "Play around with code...\n",
    "\n",
    "Repeat the optimization above for a multi-qubit PQC (e.g. 5 qubits) in order to minimize the expectation value of\n",
    "\n",
    "$$Z\\otimes X\\otimes X \\otimes Y \\otimes Y$$\n",
    "\n",
    "Define a parameterized quantum circuit of your choice with some entanglement (CNOTs). You can try more than one option...\n",
    "\n",
    "You do know in advance what is the lowest value you can get for the cost function, right?\n",
    "\n",
    "To make the problem non trivial, you should use as an observable a **linear combination of Pauli strings**, e.g.:\n",
    "\n",
    "$$ 0.4 \\ Z\\otimes X\\otimes X \\otimes Y \\otimes Y + 0.6 \\ Z\\otimes Z\\otimes X \\otimes X \\otimes Y + 1.2 \\ Z\\otimes X\\otimes X \\otimes Y \\otimes Y $$\n",
    "\n",
    "or anything similar to this.\n",
    "\n",
    "Now an optimal state is **not a product state of single-Pauli eigenstates** anymore. We expect it to be **entangled** and it is not  trivial to find it by hand.\n",
    "\n",
    "This is a **real use case** for a variational quantum algorithms.\n",
    "Similar Pauli strings come out in **quantum chemistry** ([if you are curious](https://arxiv.org/abs/1808.10402)), and may be relevant for drug design, study quantum materials (superconductors...) etc.:"
   ]
  },
  {
   "cell_type": "markdown",
   "metadata": {
    "id": "JSQaI5Q0LNS8"
   },
   "source": [
    "\n",
    "<p align=\"center\">\n",
    "  <img src=\"https://drive.google.com/uc?export=view&id=1vyXzo0BCWw54M5nGDYmOrUCrQBBjY8Z4\" width=\"700\"/>\n",
    "</p>\n",
    "\n",
    "\n",
    "<p align=\"center\">\n",
    "  <img src=\"https://drive.google.com/uc?export=view&id=1jhBX_j2ZGqoRPLm8zhlJm4omUL-Bzk0L\" width=\"500\"/>\n",
    "</p>\n"
   ]
  },
  {
   "cell_type": "code",
   "execution_count": 41,
   "metadata": {
    "id": "rsCUWvSpLNS8",
    "ExecuteTime": {
     "end_time": "2024-04-03T11:01:13.600624Z",
     "start_time": "2024-04-03T11:01:13.597933Z"
    }
   },
   "outputs": [],
   "source": [
    "### you can play around here\n",
    "X,Y = np.meshgrid(np.linspace(0, np.pi, 100), np.linspace(0, np.pi, 100))"
   ]
  },
  {
   "cell_type": "code",
   "outputs": [
    {
     "data": {
      "text/plain": "<matplotlib.colorbar.Colorbar at 0x7beb83dc9460>"
     },
     "execution_count": 55,
     "metadata": {},
     "output_type": "execute_result"
    },
    {
     "data": {
      "text/plain": "<Figure size 800x600 with 2 Axes>",
      "image/png": "[encoded data removed]"
     },
     "metadata": {},
     "output_type": "display_data"
    }
   ],
   "source": [
    "vectorized_cost_function = np.vectorize(cost_function, signature='(n)->()')\n",
    "params_grid = np.stack((X, Y), axis=-1)\n",
    "Z = vectorized_cost_function(params_grid)\n",
    "\n",
    "levels = np.linspace(np.min(Z), np.max(Z), 12)\n",
    "\n",
    "plt.figure(figsize=(8, 6))\n",
    "plt.contourf(X, Y, Z, levels=levels)\n",
    "plt.colorbar()"
   ],
   "metadata": {
    "collapsed": false,
    "ExecuteTime": {
     "end_time": "2024-04-03T11:14:48.685504Z",
     "start_time": "2024-04-03T11:14:41.638544Z"
    }
   },
   "execution_count": 55
  },
  {
   "cell_type": "code",
   "outputs": [
    {
     "data": {
      "text/plain": "tensor([0.        , 0.03173326, 0.06346652, 0.09519978, 0.12693304,\n        0.1586663 , 0.19039955, 0.22213281, 0.25386607, 0.28559933,\n        0.31733259, 0.34906585, 0.38079911, 0.41253237, 0.44426563,\n        0.47599889, 0.50773215, 0.53946541, 0.57119866, 0.60293192,\n        0.63466518, 0.66639844, 0.6981317 , 0.72986496, 0.76159822,\n        0.79333148, 0.82506474, 0.856798  , 0.88853126, 0.92026451,\n        0.95199777, 0.98373103, 1.01546429, 1.04719755, 1.07893081,\n        1.11066407, 1.14239733, 1.17413059, 1.20586385, 1.23759711,\n        1.26933037, 1.30106362, 1.33279688, 1.36453014, 1.3962634 ,\n        1.42799666, 1.45972992, 1.49146318, 1.52319644, 1.5549297 ,\n        1.58666296, 1.61839622, 1.65012947, 1.68186273, 1.71359599,\n        1.74532925, 1.77706251, 1.80879577, 1.84052903, 1.87226229,\n        1.90399555, 1.93572881, 1.96746207, 1.99919533, 2.03092858,\n        2.06266184, 2.0943951 , 2.12612836, 2.15786162, 2.18959488,\n        2.22132814, 2.2530614 , 2.28479466, 2.31652792, 2.34826118,\n        2.37999443, 2.41172769, 2.44346095, 2.47519421, 2.50692747,\n        2.53866073, 2.57039399, 2.60212725, 2.63386051, 2.66559377,\n        2.69732703, 2.72906028, 2.76079354, 2.7925268 , 2.82426006,\n        2.85599332, 2.88772658, 2.91945984, 2.9511931 , 2.98292636,\n        3.01465962, 3.04639288, 3.07812614, 3.10985939, 3.14159265], requires_grad=True)"
     },
     "execution_count": 38,
     "metadata": {},
     "output_type": "execute_result"
    }
   ],
   "source": [
    "np.linspace(0, np.pi, 100)"
   ],
   "metadata": {
    "collapsed": false,
    "ExecuteTime": {
     "end_time": "2024-04-03T10:59:32.459850Z",
     "start_time": "2024-04-03T10:59:32.454705Z"
    }
   },
   "execution_count": 38
  },
  {
   "cell_type": "markdown",
   "metadata": {
    "id": "rVFF7WQQLNS8"
   },
   "source": [
    "<div class=\"alert-block alert-success\">\n",
    "\t&#10003; <b>Well done!</b> Lesson number 2 is over.\n",
    "</div>"
   ]
  }
 ],
 "metadata": {
  "colab": {
   "provenance": [
    {
     "file_id": "1dKK8K66g-g7mjWAsAtHbTzy6g52w_ZwB",
     "timestamp": 1678872609268
    }
   ]
  },
  "kernelspec": {
   "name": "python3",
   "language": "python",
   "display_name": "Python 3 (ipykernel)"
  },
  "language_info": {
   "codemirror_mode": {
    "name": "ipython",
    "version": 3
   },
   "file_extension": ".py",
   "mimetype": "text/x-python",
   "name": "python",
   "nbconvert_exporter": "python",
   "pygments_lexer": "ipython3",
   "version": "3.10.2"
  }
 },
 "nbformat": 4,
 "nbformat_minor": 0
}
